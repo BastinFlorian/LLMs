{
 "cells": [
  {
   "cell_type": "markdown",
   "metadata": {},
   "source": [
    "# Smartphones and Watches advisor\n",
    "In this serie of notebooks we will:\n",
    "- Load text from a Youtube video playlist\n",
    "- **Split loaded text into appropriate chunks**\n",
    "- Create a vector store to load chunk embeddings\n",
    "- Create a Question Answering chatbot:\n",
    "\n",
    "    - with different prompts techniques\n",
    "    - with different similarity measures\n",
    "    - with or without chat memory \n",
    "\n",
    "!['Data Connection'](../../images/les_numeriques_youtube/data_connection.png)\n",
    "\n",
    "\n",
    "# How to perform a split of documents in chunks ? \n",
    "\n",
    "- From a Loader, we perform different splits"
   ]
  },
  {
   "cell_type": "code",
   "execution_count": 1,
   "metadata": {},
   "outputs": [],
   "source": [
    "%load_ext autoreload\n",
    "%autoreload 2"
   ]
  },
  {
   "cell_type": "code",
   "execution_count": 2,
   "metadata": {
    "scrolled": true
   },
   "outputs": [],
   "source": [
    "# Imports \n",
    "# Env var\n",
    "import os \n",
    "import sys\n",
    "from dotenv import load_dotenv, find_dotenv\n",
    "\n",
    "# Langchain\n",
    "import openai\n",
    "from langchain.text_splitter import RecursiveCharacterTextSplitter, CharacterTextSplitter\n",
    "\n",
    "# Save loader\n",
    "from utils import load_docs_from_jsonl, save_docs_to_jsonl"
   ]
  },
  {
   "cell_type": "code",
   "execution_count": 3,
   "metadata": {
    "scrolled": true
   },
   "outputs": [],
   "source": [
    "PATH_NAME_LOADER = './loaded_docs.jsonl'\n",
    "PATH_NAME_SPLITTER = './splitted_docs.jsonl'"
   ]
  },
  {
   "cell_type": "code",
   "execution_count": 4,
   "metadata": {
    "scrolled": true
   },
   "outputs": [],
   "source": [
    "# Env variable\n",
    "sys.path.append('../..')\n",
    "_ = load_dotenv(find_dotenv())\n",
    "openai.api_key = os.environ['OPENAI_API_KEY']"
   ]
  },
  {
   "cell_type": "code",
   "execution_count": 5,
   "metadata": {
    "scrolled": true
   },
   "outputs": [],
   "source": [
    "pages = load_docs_from_jsonl(PATH_NAME_LOADER)"
   ]
  },
  {
   "cell_type": "code",
   "execution_count": 6,
   "metadata": {
    "scrolled": true
   },
   "outputs": [
    {
     "name": "stdout",
     "output_type": "stream",
     "text": [
      "Bonjour à tous et bienvenue sur Les Numériques. Alors, comme chaque année, le mois de septembre, c'est réservé aux iPhones. Et 2022, évidemment, ne déroge pas la règle. Cette année, on aura vu débarquer la série 14 avec les iPhones 14 et les iPhones 14 Pro. Alors, dans cette vidéo aujourd'hui, on va plutôt s'intéresser aux versions Pro. On reviendra évidemment sur les 14 classiques lors de la sortie de la variante Plus de cet octobre. Mais bref, trêve de bavardage. Je sais que vous voulez savoir ce que vaut ce dernier iPhone. Eh bien, pour la faire court, c'est excellent. Et en même temps, on n'en attendait pas moins d'Apple. On est là face à un des meilleurs smartphones présents sur le marché. Mais ça, c'est vraiment pour résumer. Dans le détail, on peut parler de cet écran OLED qui est le plus lumineux que nous ayons pu voir sur un smartphone. Il peut monter jusqu'à 1955 nits, là où Apple en promet 2000. A titre de comparaison, une dalle d'ordinateur portable dépasse rarement les 500 nits et un téléviseur OLED tutoie les 1000 nits pour les meilleurs. On a déjà atteint du 2000 nits sur des téléviseurs mini-LED, mais c'était vraiment sur du haut de gamme. Alors, avoir une telle luminosité permet donc de bénéficier d'un confort total pour utiliser cet écran, qu'il fasse jour ou nuit. Alors, on peut également aborder la partie des performances, mais de manière très succincte. Avec cette nouvelle puce, Apple a 16 bionic gravés en 4 nanomètres et qui offre ce qui se fait de mieux en termes de puissance dans un smartphone. Évidemment, on le sait, Apple s'est toujours réglé aux petits oignons. En gérant la conception de sa puce et en même temps de son OS de bout en bout, eh bien, on arrive à avoir des smartphones performants qui surplacent ce qu'on peut trouver sur Android, même si cette année, le gap est assez faible en termes de performance. Enfin, on va finir par parler de l'autonomie qui est toujours aussi monstrueuse. Depuis l'iPhone 11 Pro Max, Apple a fait de véritables efforts sur ce point. Une application qui a perduré et qui s'est même grandement améliorée avec le modèle 12 Pro Max. En l'état, le plus gros des modèles peut tenir aisément la journée d'utilisation et on peut pousser l'usage jusqu'à une journée et demie en fonction de ce qu'on fait avec le smartphone. Par contre, il va falloir qu'on parle de la charge puisqu'elle est certes rapide, mais ne se fait qu'à une puissance maximale de 26 watts. Ça permet à l'iPhone 14 Pro Max de retrouver toute son autonomie en 1h30, ce qui, on est d'accord, reste très long par rapport à la concurrence sur le haut de gamme. On profite aussi d'une charge sans fil à 7,5 watts ainsi que de MagSafe à 15 watts. Mais encore une fois, ce n'est pas la plus rapide du marché, mais au moins, elle a le mérite d'être rapide. Tous les points cités juste avant sont importants pour quiconque veut un smartphone, c'est sûr, mais ce n'est pas les points sur lesquels Apple insiste avec son tout dernier modèle. Avant de parler de la photo, on va s'attaquer au design. Bon, inutile de dire qu'il n'y a clairement pas de révolution. Un oeil non aguerri ne verrait pas la différence entre un iPhone 13 et un iPhone 14 Pro Max. Sauf à reconnaître la nouvelle couleur violette. On peut surtout voir que la taille de l'iglo-photo a bien augmenté, encore une fois, mais on y reviendra un peu plus tard. La vraie différence stylistique cette année réside dans l'écran et s'est même trouvé un petit nom, Dynamic Highland. Ouais, l'iPhone 14 Pro Max et l'O Pro signent la mort de l'encoche et la naissance du poinçon ou de la pilule, c'est comme on veut. Avec cette nouveauté, Apple trouve surtout un moyen de rendre utile ce que beaucoup considèrent comme gênant. Et en même temps, cet espace noir n'est pas là pour nous embêter puisqu'elle abrite les capteurs nécessaires à Face ID. Si l'espace est considérablement réduit depuis le début, Apple ne semble pas avoir encore trouvé comment le faire disparaître totalement sous un écran. Alors autant en faire une force et jouer avec en proposant une sorte de second écran superposé au reste. Ce dernier permet d'afficher en permanence l'écoute musicale, un trajet sur Maps ou encore un enregistrement audio. Mais de manière ponctuelle, il peut s'animer lors de la recharge, quand on passe les 20% d'autonomie, ou encore lors de la réception d'un appel. En définitive, ce sont des usages encore un peu maigres et assez Apple-centrés. Comme les widgets arrivaient avec iOS 16, il va falloir attendre que les développeurs tiers se penchent sur le sujet pour que la nouveauté soit autre chose qu'un gadget. Pour le reste, la Dynamic Island est présente. Moins discrète qu'une encoche, c'est certain, mais c'est un nouveau temps d'adaptation qu'il va falloir prendre. Allez, je sais que vous l'attendiez. Abordons enfin la partie que tout le monde attend en photo. Que vaut ce nouvel iPhone ? Alors déjà, on va commencer par saluer la performance délivrée par le nouveau capteur de 48 mégapixels. Franchement, ça faisait longtemps qu'on attendait et Apple parvient à proposer quelque chose de très propre. Il faut dire que contrairement à la concurrence, les photos en 48 mégapixels sont capturées au format RAW, donc quasi sans perte, ce qui n'est évidemment pas le cas des autres smartphones. Résultat, les images sont très détaillées, bien plus qu'en 12 mégapixels, et peuvent être retravaillées derrière sur des logiciels comme Lightroom ou Photoshop. On est d'accord, c'est un truc qui n'est pas à la portée de tout le monde, mais si vous ne faites que regarder vos photos sur votre smartphone, alors cela fera grandement le taf. Pour l'ultra grand angle et le tel objectif, c'est globalement la même chose que l'année passée. C'est bon, ça offre de belles photos, mais ça reste encore un peu en retrait et on est en droit d'attendre. Il faut aussi parler du module frontal, qui cette année ouvre à f1.9 au lieu de f2.2, et qui permet donc de capturer plus de lumière pour des selfies plus éclatantes. On peut également noter l'arrivée d'un autofocus sur ce module, ce qui est toujours bon à prendre. Le mode portrait, lui, s'est vachement amélioré, un point sur lequel Apple n'a pas forcément appuyé dans sa communication. Avec le module arrière, le flou d'arrière-plan sera moins forcé, et surtout, l'appareil arrive dorénavant à gérer ce qui pourrait se trouver face à votre visage et à ne rendre net que ce dernier. Bon, vous voyez, j'avais pas vraiment menti en disant qu'on était face à l'un des meilleurs smartphones du marché. iPhone en parlant, on peut dire que ce 14 Pro Max est le modèle le plus mature d'Apple. Il n'est toutefois pas parfait, mais s'en approche, à tel point qu'on peut s'interroger sur ce que peut offrir l'entreprise l'année prochaine pour encore sortir du lot. Car oui, on parle beaucoup de rotation, de trois ans lorsqu'on parle des iPhones. Les X, XS et 11 fonctionnent en triptyque, tout comme les 12, 13 et 14 qui ont vu l'arrivée d'un quatrième modèle dans la gamme. On peut aussi ajouter que le dernier modèle de chaque triptyque fait office de transition pour le prochain. Avec les iPhone 11, Apple a introduit la notion de Pro, et avec le 14 Pro Max, l'entreprise pourrait bien amorcer la naissance d'une nouvelle gamme encore plus Pro. Ultra. Un iPhone ultime complètement différent des autres modèles de la famille qui viendrait marquer une réelle segmentation, un peu comme peut le faire la Watch Ultra cette année par rapport à une simple Watch Série 8. Mais bon, voilà tous ces mots pour dire que cet iPhone 14 Pro Max est évidemment un 5 étoiles et en même temps, on n'en attendait pas moins. Le fleuron chez la concurrence, c'est la note maximale qu'il a atteint, mais gardez à l'esprit que, comme cette encoche, notre notation est aussi dynamique, ce qui veut dire que potentiellement dans les prochains mois, il pourrait tomber à 4 étoiles, mais il pourrait tout aussi bien rester à 5 étoiles, suivant les smartphones qui vont sortir. Une chose qui, pour le moment, n'est pas vraiment dynamique, et il faut le rappeler quand même, c'est le tarif. Si vous avez suivi depuis la keynote, en France, on est à des tarifs qui sont supérieurs à 300€ selon les variantes et les différents modèles de la gamme. A titre d'exemple, un iPhone 14 Pro démarre à 1329€ et le plus cher des 14 Pro Max peut atteindre facilement la barre des 2100€. C'est certes un sacré investissement, mais ce n'est pas un investissement que vous avez besoin de faire maintenant, surtout si vous envisagez de changer de smartphone l'année prochaine avec l'arrivée des iPhone 15 et potentiellement de l'USB-C à la place du Lightning. Finalement, le smartphone peut s'adresser à ceux qui ont un iPhone assez vieux, on pense évidemment à un iPhone 10, 16, voire 11, si vous voulez vraiment profiter du gap technologique qu'il y a eu 4 dernières années. Si vous avez un iPhone 12 ou 13, honnêtement, gardez-le encore peut-être une année et envisagez l'achat d'un nouvel iPhone lors de l'iPhone 15, de l'iPhone 15 Pro et peut-être de l'iPhone 15 Ultra. Voilà, c'est tout pour cette vidéo, c'est tout pour ce test de l'iPhone 14 Pro Max. On peut compter le 14 Pro là-dedans. J'espère avoir répondu à toutes vos questions. Si vous en avez d'autres, n'hésitez pas à les poser dans les commentaires, on y répondra évidemment. Moi, je vous dis à la prochaine et je vous fais des bisous.\n"
     ]
    }
   ],
   "source": [
    "sample_text = pages[0].page_content\n",
    "print(sample_text)"
   ]
  },
  {
   "cell_type": "markdown",
   "metadata": {},
   "source": [
    "## Split by character\n",
    "[LangChain doc](https://python.langchain.com/docs/modules/data_connection/document_transformers/text_splitters/character_text_splitter) \n",
    "\n",
    "This is the simplest method. \n",
    "This splits based on characters (by default \"\\n\\n\") and measure chunk length by number of characters.\n",
    "- How the text is split: by single character\n",
    "- How the chunk size is measured: by number of characters"
   ]
  },
  {
   "cell_type": "code",
   "execution_count": 7,
   "metadata": {
    "scrolled": true
   },
   "outputs": [
    {
     "data": {
      "text/plain": [
       "[\"Bonjour à tous et bienvenue sur Les Numériques. Alors, comme chaque année, le mois de septembre, c'est réservé aux iPhones. Et 2022, évidemment, ne\",\n",
       " \"déroge pas la règle. Cette année, on aura vu débarquer la série 14 avec les iPhones 14 et les iPhones 14 Pro. Alors, dans cette vidéo aujourd'hui, on\",\n",
       " \"va plutôt s'intéresser aux versions Pro. On reviendra évidemment sur les 14 classiques lors de la sortie de la variante Plus de cet octobre. Mais\",\n",
       " \"bref, trêve de bavardage. Je sais que vous voulez savoir ce que vaut ce dernier iPhone. Eh bien, pour la faire court, c'est excellent. Et en même\",\n",
       " \"temps, on n'en attendait pas moins d'Apple. On est là face à un des meilleurs smartphones présents sur le marché. Mais ça, c'est vraiment pour\",\n",
       " \"résumer. Dans le détail, on peut parler de cet écran OLED qui est le plus lumineux que nous ayons pu voir sur un smartphone. Il peut monter jusqu'à\",\n",
       " \"1955 nits, là où Apple en promet 2000. A titre de comparaison, une dalle d'ordinateur portable dépasse rarement les 500 nits et un téléviseur OLED\",\n",
       " \"tutoie les 1000 nits pour les meilleurs. On a déjà atteint du 2000 nits sur des téléviseurs mini-LED, mais c'était vraiment sur du haut de gamme.\",\n",
       " \"Alors, avoir une telle luminosité permet donc de bénéficier d'un confort total pour utiliser cet écran, qu'il fasse jour ou nuit. Alors, on peut\",\n",
       " 'également aborder la partie des performances, mais de manière très succincte. Avec cette nouvelle puce, Apple a 16 bionic gravés en 4 nanomètres et',\n",
       " \"qui offre ce qui se fait de mieux en termes de puissance dans un smartphone. Évidemment, on le sait, Apple s'est toujours réglé aux petits oignons. En\",\n",
       " 'gérant la conception de sa puce et en même temps de son OS de bout en bout, eh bien, on arrive à avoir des smartphones performants qui surplacent ce',\n",
       " \"qu'on peut trouver sur Android, même si cette année, le gap est assez faible en termes de performance. Enfin, on va finir par parler de l'autonomie\",\n",
       " \"qui est toujours aussi monstrueuse. Depuis l'iPhone 11 Pro Max, Apple a fait de véritables efforts sur ce point. Une application qui a perduré et qui\",\n",
       " \"s'est même grandement améliorée avec le modèle 12 Pro Max. En l'état, le plus gros des modèles peut tenir aisément la journée d'utilisation et on peut\",\n",
       " \"pousser l'usage jusqu'à une journée et demie en fonction de ce qu'on fait avec le smartphone. Par contre, il va falloir qu'on parle de la charge\",\n",
       " \"puisqu'elle est certes rapide, mais ne se fait qu'à une puissance maximale de 26 watts. Ça permet à l'iPhone 14 Pro Max de retrouver toute son\",\n",
       " \"autonomie en 1h30, ce qui, on est d'accord, reste très long par rapport à la concurrence sur le haut de gamme. On profite aussi d'une charge sans fil\",\n",
       " \"à 7,5 watts ainsi que de MagSafe à 15 watts. Mais encore une fois, ce n'est pas la plus rapide du marché, mais au moins, elle a le mérite d'être\",\n",
       " \"rapide. Tous les points cités juste avant sont importants pour quiconque veut un smartphone, c'est sûr, mais ce n'est pas les points sur lesquels\",\n",
       " \"Apple insiste avec son tout dernier modèle. Avant de parler de la photo, on va s'attaquer au design. Bon, inutile de dire qu'il n'y a clairement pas\",\n",
       " 'de révolution. Un oeil non aguerri ne verrait pas la différence entre un iPhone 13 et un iPhone 14 Pro Max. Sauf à reconnaître la nouvelle couleur',\n",
       " \"violette. On peut surtout voir que la taille de l'iglo-photo a bien augmenté, encore une fois, mais on y reviendra un peu plus tard. La vraie\",\n",
       " \"différence stylistique cette année réside dans l'écran et s'est même trouvé un petit nom, Dynamic Highland. Ouais, l'iPhone 14 Pro Max et l'O Pro\",\n",
       " \"signent la mort de l'encoche et la naissance du poinçon ou de la pilule, c'est comme on veut. Avec cette nouveauté, Apple trouve surtout un moyen de\",\n",
       " \"rendre utile ce que beaucoup considèrent comme gênant. Et en même temps, cet espace noir n'est pas là pour nous embêter puisqu'elle abrite les\",\n",
       " \"capteurs nécessaires à Face ID. Si l'espace est considérablement réduit depuis le début, Apple ne semble pas avoir encore trouvé comment le faire\",\n",
       " 'disparaître totalement sous un écran. Alors autant en faire une force et jouer avec en proposant une sorte de second écran superposé au reste. Ce',\n",
       " \"dernier permet d'afficher en permanence l'écoute musicale, un trajet sur Maps ou encore un enregistrement audio. Mais de manière ponctuelle, il peut\",\n",
       " \"s'animer lors de la recharge, quand on passe les 20% d'autonomie, ou encore lors de la réception d'un appel. En définitive, ce sont des usages encore\",\n",
       " 'un peu maigres et assez Apple-centrés. Comme les widgets arrivaient avec iOS 16, il va falloir attendre que les développeurs tiers se penchent sur le',\n",
       " \"sujet pour que la nouveauté soit autre chose qu'un gadget. Pour le reste, la Dynamic Island est présente. Moins discrète qu'une encoche, c'est\",\n",
       " \"certain, mais c'est un nouveau temps d'adaptation qu'il va falloir prendre. Allez, je sais que vous l'attendiez. Abordons enfin la partie que tout le\",\n",
       " 'monde attend en photo. Que vaut ce nouvel iPhone ? Alors déjà, on va commencer par saluer la performance délivrée par le nouveau capteur de 48',\n",
       " \"mégapixels. Franchement, ça faisait longtemps qu'on attendait et Apple parvient à proposer quelque chose de très propre. Il faut dire que\",\n",
       " \"contrairement à la concurrence, les photos en 48 mégapixels sont capturées au format RAW, donc quasi sans perte, ce qui n'est évidemment pas le cas\",\n",
       " \"des autres smartphones. Résultat, les images sont très détaillées, bien plus qu'en 12 mégapixels, et peuvent être retravaillées derrière sur des\",\n",
       " \"logiciels comme Lightroom ou Photoshop. On est d'accord, c'est un truc qui n'est pas à la portée de tout le monde, mais si vous ne faites que regarder\",\n",
       " \"vos photos sur votre smartphone, alors cela fera grandement le taf. Pour l'ultra grand angle et le tel objectif, c'est globalement la même chose que\",\n",
       " \"l'année passée. C'est bon, ça offre de belles photos, mais ça reste encore un peu en retrait et on est en droit d'attendre. Il faut aussi parler du\",\n",
       " 'module frontal, qui cette année ouvre à f1.9 au lieu de f2.2, et qui permet donc de capturer plus de lumière pour des selfies plus éclatantes. On peut',\n",
       " \"également noter l'arrivée d'un autofocus sur ce module, ce qui est toujours bon à prendre. Le mode portrait, lui, s'est vachement amélioré, un point\",\n",
       " \"sur lequel Apple n'a pas forcément appuyé dans sa communication. Avec le module arrière, le flou d'arrière-plan sera moins forcé, et surtout,\",\n",
       " \"l'appareil arrive dorénavant à gérer ce qui pourrait se trouver face à votre visage et à ne rendre net que ce dernier. Bon, vous voyez, j'avais pas\",\n",
       " \"vraiment menti en disant qu'on était face à l'un des meilleurs smartphones du marché. iPhone en parlant, on peut dire que ce 14 Pro Max est le modèle\",\n",
       " \"le plus mature d'Apple. Il n'est toutefois pas parfait, mais s'en approche, à tel point qu'on peut s'interroger sur ce que peut offrir l'entreprise\",\n",
       " \"l'année prochaine pour encore sortir du lot. Car oui, on parle beaucoup de rotation, de trois ans lorsqu'on parle des iPhones. Les X, XS et 11\",\n",
       " \"fonctionnent en triptyque, tout comme les 12, 13 et 14 qui ont vu l'arrivée d'un quatrième modèle dans la gamme. On peut aussi ajouter que le dernier\",\n",
       " 'modèle de chaque triptyque fait office de transition pour le prochain. Avec les iPhone 11, Apple a introduit la notion de Pro, et avec le 14 Pro Max,',\n",
       " \"l'entreprise pourrait bien amorcer la naissance d'une nouvelle gamme encore plus Pro. Ultra. Un iPhone ultime complètement différent des autres\",\n",
       " 'modèles de la famille qui viendrait marquer une réelle segmentation, un peu comme peut le faire la Watch Ultra cette année par rapport à une simple',\n",
       " \"Watch Série 8. Mais bon, voilà tous ces mots pour dire que cet iPhone 14 Pro Max est évidemment un 5 étoiles et en même temps, on n'en attendait pas\",\n",
       " \"moins. Le fleuron chez la concurrence, c'est la note maximale qu'il a atteint, mais gardez à l'esprit que, comme cette encoche, notre notation est\",\n",
       " 'aussi dynamique, ce qui veut dire que potentiellement dans les prochains mois, il pourrait tomber à 4 étoiles, mais il pourrait tout aussi bien rester',\n",
       " \"à 5 étoiles, suivant les smartphones qui vont sortir. Une chose qui, pour le moment, n'est pas vraiment dynamique, et il faut le rappeler quand même,\",\n",
       " \"c'est le tarif. Si vous avez suivi depuis la keynote, en France, on est à des tarifs qui sont supérieurs à 300€ selon les variantes et les différents\",\n",
       " \"modèles de la gamme. A titre d'exemple, un iPhone 14 Pro démarre à 1329€ et le plus cher des 14 Pro Max peut atteindre facilement la barre des 2100€.\",\n",
       " \"C'est certes un sacré investissement, mais ce n'est pas un investissement que vous avez besoin de faire maintenant, surtout si vous envisagez de\",\n",
       " \"changer de smartphone l'année prochaine avec l'arrivée des iPhone 15 et potentiellement de l'USB-C à la place du Lightning. Finalement, le smartphone\",\n",
       " \"peut s'adresser à ceux qui ont un iPhone assez vieux, on pense évidemment à un iPhone 10, 16, voire 11, si vous voulez vraiment profiter du gap\",\n",
       " \"technologique qu'il y a eu 4 dernières années. Si vous avez un iPhone 12 ou 13, honnêtement, gardez-le encore peut-être une année et envisagez l'achat\",\n",
       " \"d'un nouvel iPhone lors de l'iPhone 15, de l'iPhone 15 Pro et peut-être de l'iPhone 15 Ultra. Voilà, c'est tout pour cette vidéo, c'est tout pour ce\",\n",
       " \"test de l'iPhone 14 Pro Max. On peut compter le 14 Pro là-dedans. J'espère avoir répondu à toutes vos questions. Si vous en avez d'autres, n'hésitez\",\n",
       " 'pas à les poser dans les commentaires, on y répondra évidemment. Moi, je vous dis à la prochaine et je vous fais des bisous.']"
      ]
     },
     "execution_count": 7,
     "metadata": {},
     "output_type": "execute_result"
    }
   ],
   "source": [
    "# CharacterTextSplitter\n",
    "c_splitter = CharacterTextSplitter(\n",
    "    chunk_size=150,\n",
    "    chunk_overlap=0,\n",
    "    separator = ' '\n",
    ")\n",
    "\n",
    "c_splitter.split_text(sample_text)"
   ]
  },
  {
   "cell_type": "markdown",
   "metadata": {},
   "source": [
    "## Recursive character text splitter\n",
    "[LangChain doc](https://python.langchain.com/docs/modules/data_connection/document_transformers/text_splitters/recursive_text_splitter) \n",
    "\n",
    "\n",
    "This text splitter is the recommended one for generic text. It is parameterized by a list of characters. \n",
    "\n",
    "It tries to split on them in order until the chunks are small enough. \n",
    "\n",
    "The default list is [\"\\n\\n\", \"\\n\", \" \", \"\"]. This has the effect of trying to keep all paragraphs (and then sentences, and then words) together as long as possible, as those would generically seem to be the strongest semantically related pieces of text.\n",
    "\n",
    "- How the text is split: by list of characters\n",
    "- How the chunk size is measured: by number of characters"
   ]
  },
  {
   "cell_type": "code",
   "execution_count": 8,
   "metadata": {
    "scrolled": true
   },
   "outputs": [
    {
     "data": {
      "text/plain": [
       "[\"Bonjour à tous et bienvenue sur Les Numériques. Alors, comme chaque année, le mois de septembre, c'est réservé aux iPhones. Et 2022, évidemment, ne\",\n",
       " \"déroge pas la règle. Cette année, on aura vu débarquer la série 14 avec les iPhones 14 et les iPhones 14 Pro. Alors, dans cette vidéo aujourd'hui, on\",\n",
       " \"va plutôt s'intéresser aux versions Pro. On reviendra évidemment sur les 14 classiques lors de la sortie de la variante Plus de cet octobre. Mais\",\n",
       " \"bref, trêve de bavardage. Je sais que vous voulez savoir ce que vaut ce dernier iPhone. Eh bien, pour la faire court, c'est excellent. Et en même\",\n",
       " \"temps, on n'en attendait pas moins d'Apple. On est là face à un des meilleurs smartphones présents sur le marché. Mais ça, c'est vraiment pour\",\n",
       " \"résumer. Dans le détail, on peut parler de cet écran OLED qui est le plus lumineux que nous ayons pu voir sur un smartphone. Il peut monter jusqu'à\",\n",
       " \"1955 nits, là où Apple en promet 2000. A titre de comparaison, une dalle d'ordinateur portable dépasse rarement les 500 nits et un téléviseur OLED\",\n",
       " \"tutoie les 1000 nits pour les meilleurs. On a déjà atteint du 2000 nits sur des téléviseurs mini-LED, mais c'était vraiment sur du haut de gamme.\",\n",
       " \"Alors, avoir une telle luminosité permet donc de bénéficier d'un confort total pour utiliser cet écran, qu'il fasse jour ou nuit. Alors, on peut\",\n",
       " 'également aborder la partie des performances, mais de manière très succincte. Avec cette nouvelle puce, Apple a 16 bionic gravés en 4 nanomètres et',\n",
       " \"qui offre ce qui se fait de mieux en termes de puissance dans un smartphone. Évidemment, on le sait, Apple s'est toujours réglé aux petits oignons.\",\n",
       " 'En gérant la conception de sa puce et en même temps de son OS de bout en bout, eh bien, on arrive à avoir des smartphones performants qui surplacent',\n",
       " \"ce qu'on peut trouver sur Android, même si cette année, le gap est assez faible en termes de performance. Enfin, on va finir par parler de\",\n",
       " \"l'autonomie qui est toujours aussi monstrueuse. Depuis l'iPhone 11 Pro Max, Apple a fait de véritables efforts sur ce point. Une application qui a\",\n",
       " \"perduré et qui s'est même grandement améliorée avec le modèle 12 Pro Max. En l'état, le plus gros des modèles peut tenir aisément la journée\",\n",
       " \"d'utilisation et on peut pousser l'usage jusqu'à une journée et demie en fonction de ce qu'on fait avec le smartphone. Par contre, il va falloir\",\n",
       " \"qu'on parle de la charge puisqu'elle est certes rapide, mais ne se fait qu'à une puissance maximale de 26 watts. Ça permet à l'iPhone 14 Pro Max de\",\n",
       " \"retrouver toute son autonomie en 1h30, ce qui, on est d'accord, reste très long par rapport à la concurrence sur le haut de gamme. On profite aussi\",\n",
       " \"d'une charge sans fil à 7,5 watts ainsi que de MagSafe à 15 watts. Mais encore une fois, ce n'est pas la plus rapide du marché, mais au moins, elle a\",\n",
       " \"le mérite d'être rapide. Tous les points cités juste avant sont importants pour quiconque veut un smartphone, c'est sûr, mais ce n'est pas les points\",\n",
       " \"sur lesquels Apple insiste avec son tout dernier modèle. Avant de parler de la photo, on va s'attaquer au design. Bon, inutile de dire qu'il n'y a\",\n",
       " 'clairement pas de révolution. Un oeil non aguerri ne verrait pas la différence entre un iPhone 13 et un iPhone 14 Pro Max. Sauf à reconnaître la',\n",
       " \"nouvelle couleur violette. On peut surtout voir que la taille de l'iglo-photo a bien augmenté, encore une fois, mais on y reviendra un peu plus tard.\",\n",
       " \"La vraie différence stylistique cette année réside dans l'écran et s'est même trouvé un petit nom, Dynamic Highland. Ouais, l'iPhone 14 Pro Max et\",\n",
       " \"l'O Pro signent la mort de l'encoche et la naissance du poinçon ou de la pilule, c'est comme on veut. Avec cette nouveauté, Apple trouve surtout un\",\n",
       " \"moyen de rendre utile ce que beaucoup considèrent comme gênant. Et en même temps, cet espace noir n'est pas là pour nous embêter puisqu'elle abrite\",\n",
       " \"les capteurs nécessaires à Face ID. Si l'espace est considérablement réduit depuis le début, Apple ne semble pas avoir encore trouvé comment le faire\",\n",
       " 'disparaître totalement sous un écran. Alors autant en faire une force et jouer avec en proposant une sorte de second écran superposé au reste. Ce',\n",
       " \"dernier permet d'afficher en permanence l'écoute musicale, un trajet sur Maps ou encore un enregistrement audio. Mais de manière ponctuelle, il peut\",\n",
       " \"s'animer lors de la recharge, quand on passe les 20% d'autonomie, ou encore lors de la réception d'un appel. En définitive, ce sont des usages encore\",\n",
       " 'un peu maigres et assez Apple-centrés. Comme les widgets arrivaient avec iOS 16, il va falloir attendre que les développeurs tiers se penchent sur le',\n",
       " \"sujet pour que la nouveauté soit autre chose qu'un gadget. Pour le reste, la Dynamic Island est présente. Moins discrète qu'une encoche, c'est\",\n",
       " \"certain, mais c'est un nouveau temps d'adaptation qu'il va falloir prendre. Allez, je sais que vous l'attendiez. Abordons enfin la partie que tout le\",\n",
       " 'monde attend en photo. Que vaut ce nouvel iPhone ? Alors déjà, on va commencer par saluer la performance délivrée par le nouveau capteur de 48',\n",
       " \"mégapixels. Franchement, ça faisait longtemps qu'on attendait et Apple parvient à proposer quelque chose de très propre. Il faut dire que\",\n",
       " \"contrairement à la concurrence, les photos en 48 mégapixels sont capturées au format RAW, donc quasi sans perte, ce qui n'est évidemment pas le cas\",\n",
       " \"des autres smartphones. Résultat, les images sont très détaillées, bien plus qu'en 12 mégapixels, et peuvent être retravaillées derrière sur des\",\n",
       " \"logiciels comme Lightroom ou Photoshop. On est d'accord, c'est un truc qui n'est pas à la portée de tout le monde, mais si vous ne faites que\",\n",
       " \"regarder vos photos sur votre smartphone, alors cela fera grandement le taf. Pour l'ultra grand angle et le tel objectif, c'est globalement la même\",\n",
       " \"chose que l'année passée. C'est bon, ça offre de belles photos, mais ça reste encore un peu en retrait et on est en droit d'attendre. Il faut aussi\",\n",
       " 'parler du module frontal, qui cette année ouvre à f1.9 au lieu de f2.2, et qui permet donc de capturer plus de lumière pour des selfies plus',\n",
       " \"éclatantes. On peut également noter l'arrivée d'un autofocus sur ce module, ce qui est toujours bon à prendre. Le mode portrait, lui, s'est vachement\",\n",
       " \"amélioré, un point sur lequel Apple n'a pas forcément appuyé dans sa communication. Avec le module arrière, le flou d'arrière-plan sera moins forcé,\",\n",
       " \"et surtout, l'appareil arrive dorénavant à gérer ce qui pourrait se trouver face à votre visage et à ne rendre net que ce dernier. Bon, vous voyez,\",\n",
       " \"j'avais pas vraiment menti en disant qu'on était face à l'un des meilleurs smartphones du marché. iPhone en parlant, on peut dire que ce 14 Pro Max\",\n",
       " \"est le modèle le plus mature d'Apple. Il n'est toutefois pas parfait, mais s'en approche, à tel point qu'on peut s'interroger sur ce que peut offrir\",\n",
       " \"l'entreprise l'année prochaine pour encore sortir du lot. Car oui, on parle beaucoup de rotation, de trois ans lorsqu'on parle des iPhones. Les X, XS\",\n",
       " \"et 11 fonctionnent en triptyque, tout comme les 12, 13 et 14 qui ont vu l'arrivée d'un quatrième modèle dans la gamme. On peut aussi ajouter que le\",\n",
       " 'dernier modèle de chaque triptyque fait office de transition pour le prochain. Avec les iPhone 11, Apple a introduit la notion de Pro, et avec le 14',\n",
       " \"Pro Max, l'entreprise pourrait bien amorcer la naissance d'une nouvelle gamme encore plus Pro. Ultra. Un iPhone ultime complètement différent des\",\n",
       " 'autres modèles de la famille qui viendrait marquer une réelle segmentation, un peu comme peut le faire la Watch Ultra cette année par rapport à une',\n",
       " \"simple Watch Série 8. Mais bon, voilà tous ces mots pour dire que cet iPhone 14 Pro Max est évidemment un 5 étoiles et en même temps, on n'en\",\n",
       " \"attendait pas moins. Le fleuron chez la concurrence, c'est la note maximale qu'il a atteint, mais gardez à l'esprit que, comme cette encoche, notre\",\n",
       " 'notation est aussi dynamique, ce qui veut dire que potentiellement dans les prochains mois, il pourrait tomber à 4 étoiles, mais il pourrait tout',\n",
       " \"aussi bien rester à 5 étoiles, suivant les smartphones qui vont sortir. Une chose qui, pour le moment, n'est pas vraiment dynamique, et il faut le\",\n",
       " \"rappeler quand même, c'est le tarif. Si vous avez suivi depuis la keynote, en France, on est à des tarifs qui sont supérieurs à 300€ selon les\",\n",
       " \"variantes et les différents modèles de la gamme. A titre d'exemple, un iPhone 14 Pro démarre à 1329€ et le plus cher des 14 Pro Max peut atteindre\",\n",
       " \"facilement la barre des 2100€. C'est certes un sacré investissement, mais ce n'est pas un investissement que vous avez besoin de faire maintenant,\",\n",
       " \"surtout si vous envisagez de changer de smartphone l'année prochaine avec l'arrivée des iPhone 15 et potentiellement de l'USB-C à la place du\",\n",
       " \"Lightning. Finalement, le smartphone peut s'adresser à ceux qui ont un iPhone assez vieux, on pense évidemment à un iPhone 10, 16, voire 11, si vous\",\n",
       " \"voulez vraiment profiter du gap technologique qu'il y a eu 4 dernières années. Si vous avez un iPhone 12 ou 13, honnêtement, gardez-le encore\",\n",
       " \"peut-être une année et envisagez l'achat d'un nouvel iPhone lors de l'iPhone 15, de l'iPhone 15 Pro et peut-être de l'iPhone 15 Ultra. Voilà, c'est\",\n",
       " \"tout pour cette vidéo, c'est tout pour ce test de l'iPhone 14 Pro Max. On peut compter le 14 Pro là-dedans. J'espère avoir répondu à toutes vos\",\n",
       " \"questions. Si vous en avez d'autres, n'hésitez pas à les poser dans les commentaires, on y répondra évidemment. Moi, je vous dis à la prochaine et je\",\n",
       " 'vous fais des bisous.']"
      ]
     },
     "execution_count": 8,
     "metadata": {},
     "output_type": "execute_result"
    }
   ],
   "source": [
    "# Chunk size to small\n",
    "r_splitter = RecursiveCharacterTextSplitter(\n",
    "    chunk_size=150,\n",
    "    chunk_overlap=0, \n",
    "    separators=[\"\\n\\n\", \"\\n\", \" \", \"\"]\n",
    ")\n",
    "\n",
    "r_splitter.split_text(sample_text)"
   ]
  },
  {
   "cell_type": "code",
   "execution_count": 9,
   "metadata": {
    "scrolled": true
   },
   "outputs": [
    {
     "data": {
      "text/plain": [
       "['Bonjour à tous et bienvenue sur Les Numériques. Alors, comme chaque année, le mois de septembre,',\n",
       " \"Alors, comme chaque année, le mois de septembre, c'est réservé aux iPhones. Et 2022, évidemment, ne\",\n",
       " 'réservé aux iPhones. Et 2022, évidemment, ne déroge pas la règle. Cette année, on aura vu débarquer',\n",
       " 'pas la règle. Cette année, on aura vu débarquer la série 14 avec les iPhones 14 et les iPhones 14',\n",
       " \"la série 14 avec les iPhones 14 et les iPhones 14 Pro. Alors, dans cette vidéo aujourd'hui, on va\",\n",
       " \"Pro. Alors, dans cette vidéo aujourd'hui, on va plutôt s'intéresser aux versions Pro. On reviendra\",\n",
       " \"s'intéresser aux versions Pro. On reviendra évidemment sur les 14 classiques lors de la sortie de\",\n",
       " 'sur les 14 classiques lors de la sortie de la variante Plus de cet octobre. Mais bref, trêve de',\n",
       " 'variante Plus de cet octobre. Mais bref, trêve de bavardage. Je sais que vous voulez savoir ce que',\n",
       " 'bavardage. Je sais que vous voulez savoir ce que vaut ce dernier iPhone. Eh bien, pour la faire',\n",
       " \"vaut ce dernier iPhone. Eh bien, pour la faire court, c'est excellent. Et en même temps, on n'en\",\n",
       " \"court, c'est excellent. Et en même temps, on n'en attendait pas moins d'Apple. On est là face à un\",\n",
       " \"attendait pas moins d'Apple. On est là face à un des meilleurs smartphones présents sur le marché.\",\n",
       " \"des meilleurs smartphones présents sur le marché. Mais ça, c'est vraiment pour résumer. Dans le\",\n",
       " \"Mais ça, c'est vraiment pour résumer. Dans le détail, on peut parler de cet écran OLED qui est le\",\n",
       " 'on peut parler de cet écran OLED qui est le plus lumineux que nous ayons pu voir sur un smartphone.',\n",
       " \"que nous ayons pu voir sur un smartphone. Il peut monter jusqu'à 1955 nits, là où Apple en promet\",\n",
       " \"monter jusqu'à 1955 nits, là où Apple en promet 2000. A titre de comparaison, une dalle\",\n",
       " \"en promet 2000. A titre de comparaison, une dalle d'ordinateur portable dépasse rarement les 500\",\n",
       " \"d'ordinateur portable dépasse rarement les 500 nits et un téléviseur OLED tutoie les 1000 nits pour\",\n",
       " 'et un téléviseur OLED tutoie les 1000 nits pour les meilleurs. On a déjà atteint du 2000 nits sur',\n",
       " \"les meilleurs. On a déjà atteint du 2000 nits sur des téléviseurs mini-LED, mais c'était vraiment\",\n",
       " \"des téléviseurs mini-LED, mais c'était vraiment sur du haut de gamme. Alors, avoir une telle\",\n",
       " \"sur du haut de gamme. Alors, avoir une telle luminosité permet donc de bénéficier d'un confort\",\n",
       " \"luminosité permet donc de bénéficier d'un confort total pour utiliser cet écran, qu'il fasse jour\",\n",
       " \"total pour utiliser cet écran, qu'il fasse jour ou nuit. Alors, on peut également aborder la partie\",\n",
       " 'nuit. Alors, on peut également aborder la partie des performances, mais de manière très succincte.',\n",
       " 'des performances, mais de manière très succincte. Avec cette nouvelle puce, Apple a 16 bionic',\n",
       " 'Avec cette nouvelle puce, Apple a 16 bionic gravés en 4 nanomètres et qui offre ce qui se fait de',\n",
       " 'en 4 nanomètres et qui offre ce qui se fait de mieux en termes de puissance dans un smartphone.',\n",
       " \"mieux en termes de puissance dans un smartphone. Évidemment, on le sait, Apple s'est toujours réglé\",\n",
       " \"on le sait, Apple s'est toujours réglé aux petits oignons. En gérant la conception de sa puce et en\",\n",
       " 'oignons. En gérant la conception de sa puce et en même temps de son OS de bout en bout, eh bien, on',\n",
       " 'même temps de son OS de bout en bout, eh bien, on arrive à avoir des smartphones performants qui',\n",
       " \"on arrive à avoir des smartphones performants qui surplacent ce qu'on peut trouver sur Android,\",\n",
       " \"qui surplacent ce qu'on peut trouver sur Android, même si cette année, le gap est assez faible en\",\n",
       " 'même si cette année, le gap est assez faible en termes de performance. Enfin, on va finir par',\n",
       " \"en termes de performance. Enfin, on va finir par parler de l'autonomie qui est toujours aussi\",\n",
       " \"par parler de l'autonomie qui est toujours aussi monstrueuse. Depuis l'iPhone 11 Pro Max, Apple a\",\n",
       " \"monstrueuse. Depuis l'iPhone 11 Pro Max, Apple a fait de véritables efforts sur ce point. Une\",\n",
       " \"a fait de véritables efforts sur ce point. Une application qui a perduré et qui s'est même\",\n",
       " \"Une application qui a perduré et qui s'est même grandement améliorée avec le modèle 12 Pro Max. En\",\n",
       " \"améliorée avec le modèle 12 Pro Max. En l'état, le plus gros des modèles peut tenir aisément la\",\n",
       " \"le plus gros des modèles peut tenir aisément la journée d'utilisation et on peut pousser l'usage\",\n",
       " \"journée d'utilisation et on peut pousser l'usage jusqu'à une journée et demie en fonction de ce\",\n",
       " \"jusqu'à une journée et demie en fonction de ce qu'on fait avec le smartphone. Par contre, il va\",\n",
       " \"qu'on fait avec le smartphone. Par contre, il va falloir qu'on parle de la charge puisqu'elle est\",\n",
       " \"falloir qu'on parle de la charge puisqu'elle est certes rapide, mais ne se fait qu'à une puissance\",\n",
       " \"certes rapide, mais ne se fait qu'à une puissance maximale de 26 watts. Ça permet à l'iPhone 14 Pro\",\n",
       " \"maximale de 26 watts. Ça permet à l'iPhone 14 Pro Max de retrouver toute son autonomie en 1h30, ce\",\n",
       " \"Max de retrouver toute son autonomie en 1h30, ce qui, on est d'accord, reste très long par rapport\",\n",
       " \"qui, on est d'accord, reste très long par rapport à la concurrence sur le haut de gamme. On profite\",\n",
       " \"à la concurrence sur le haut de gamme. On profite aussi d'une charge sans fil à 7,5 watts ainsi que\",\n",
       " \"aussi d'une charge sans fil à 7,5 watts ainsi que de MagSafe à 15 watts. Mais encore une fois, ce\",\n",
       " \"de MagSafe à 15 watts. Mais encore une fois, ce n'est pas la plus rapide du marché, mais au moins,\",\n",
       " \"pas la plus rapide du marché, mais au moins, elle a le mérite d'être rapide. Tous les points cités\",\n",
       " \"a le mérite d'être rapide. Tous les points cités juste avant sont importants pour quiconque veut un\",\n",
       " \"avant sont importants pour quiconque veut un smartphone, c'est sûr, mais ce n'est pas les points\",\n",
       " \"c'est sûr, mais ce n'est pas les points sur lesquels Apple insiste avec son tout dernier modèle.\",\n",
       " \"Apple insiste avec son tout dernier modèle. Avant de parler de la photo, on va s'attaquer au\",\n",
       " \"Avant de parler de la photo, on va s'attaquer au design. Bon, inutile de dire qu'il n'y a\",\n",
       " \"au design. Bon, inutile de dire qu'il n'y a clairement pas de révolution. Un oeil non aguerri ne\",\n",
       " 'pas de révolution. Un oeil non aguerri ne verrait pas la différence entre un iPhone 13 et un iPhone',\n",
       " 'pas la différence entre un iPhone 13 et un iPhone 14 Pro Max. Sauf à reconnaître la nouvelle',\n",
       " 'iPhone 14 Pro Max. Sauf à reconnaître la nouvelle couleur violette. On peut surtout voir que la',\n",
       " \"couleur violette. On peut surtout voir que la taille de l'iglo-photo a bien augmenté, encore une\",\n",
       " \"de l'iglo-photo a bien augmenté, encore une fois, mais on y reviendra un peu plus tard. La vraie\",\n",
       " 'mais on y reviendra un peu plus tard. La vraie différence stylistique cette année réside dans',\n",
       " \"différence stylistique cette année réside dans l'écran et s'est même trouvé un petit nom, Dynamic\",\n",
       " \"et s'est même trouvé un petit nom, Dynamic Highland. Ouais, l'iPhone 14 Pro Max et l'O Pro signent\",\n",
       " \"Ouais, l'iPhone 14 Pro Max et l'O Pro signent la mort de l'encoche et la naissance du poinçon ou de\",\n",
       " \"de l'encoche et la naissance du poinçon ou de la pilule, c'est comme on veut. Avec cette nouveauté,\",\n",
       " \"c'est comme on veut. Avec cette nouveauté, Apple trouve surtout un moyen de rendre utile ce que\",\n",
       " 'trouve surtout un moyen de rendre utile ce que beaucoup considèrent comme gênant. Et en même temps,',\n",
       " \"considèrent comme gênant. Et en même temps, cet espace noir n'est pas là pour nous embêter\",\n",
       " \"cet espace noir n'est pas là pour nous embêter puisqu'elle abrite les capteurs nécessaires à Face\",\n",
       " \"abrite les capteurs nécessaires à Face ID. Si l'espace est considérablement réduit depuis le début,\",\n",
       " 'est considérablement réduit depuis le début, Apple ne semble pas avoir encore trouvé comment le',\n",
       " 'ne semble pas avoir encore trouvé comment le faire disparaître totalement sous un écran. Alors',\n",
       " 'faire disparaître totalement sous un écran. Alors autant en faire une force et jouer avec en',\n",
       " 'Alors autant en faire une force et jouer avec en proposant une sorte de second écran superposé au',\n",
       " \"proposant une sorte de second écran superposé au reste. Ce dernier permet d'afficher en permanence\",\n",
       " \"reste. Ce dernier permet d'afficher en permanence l'écoute musicale, un trajet sur Maps ou encore\",\n",
       " \"l'écoute musicale, un trajet sur Maps ou encore un enregistrement audio. Mais de manière\",\n",
       " \"encore un enregistrement audio. Mais de manière ponctuelle, il peut s'animer lors de la recharge,\",\n",
       " \"ponctuelle, il peut s'animer lors de la recharge, quand on passe les 20% d'autonomie, ou encore\",\n",
       " \"quand on passe les 20% d'autonomie, ou encore lors de la réception d'un appel. En définitive, ce\",\n",
       " \"de la réception d'un appel. En définitive, ce sont des usages encore un peu maigres et assez\",\n",
       " 'ce sont des usages encore un peu maigres et assez Apple-centrés. Comme les widgets arrivaient avec',\n",
       " 'Apple-centrés. Comme les widgets arrivaient avec iOS 16, il va falloir attendre que les',\n",
       " 'avec iOS 16, il va falloir attendre que les développeurs tiers se penchent sur le sujet pour que la',\n",
       " \"tiers se penchent sur le sujet pour que la nouveauté soit autre chose qu'un gadget. Pour le reste,\",\n",
       " \"soit autre chose qu'un gadget. Pour le reste, la Dynamic Island est présente. Moins discrète qu'une\",\n",
       " \"Island est présente. Moins discrète qu'une encoche, c'est certain, mais c'est un nouveau temps\",\n",
       " \"c'est certain, mais c'est un nouveau temps d'adaptation qu'il va falloir prendre. Allez, je sais\",\n",
       " \"qu'il va falloir prendre. Allez, je sais que vous l'attendiez. Abordons enfin la partie que tout le\",\n",
       " \"l'attendiez. Abordons enfin la partie que tout le monde attend en photo. Que vaut ce nouvel iPhone\",\n",
       " 'monde attend en photo. Que vaut ce nouvel iPhone ? Alors déjà, on va commencer par saluer la',\n",
       " '? Alors déjà, on va commencer par saluer la performance délivrée par le nouveau capteur de 48',\n",
       " 'performance délivrée par le nouveau capteur de 48 mégapixels. Franchement, ça faisait longtemps',\n",
       " \"48 mégapixels. Franchement, ça faisait longtemps qu'on attendait et Apple parvient à proposer\",\n",
       " \"qu'on attendait et Apple parvient à proposer quelque chose de très propre. Il faut dire que\",\n",
       " 'quelque chose de très propre. Il faut dire que contrairement à la concurrence, les photos en 48',\n",
       " 'contrairement à la concurrence, les photos en 48 mégapixels sont capturées au format RAW, donc',\n",
       " \"48 mégapixels sont capturées au format RAW, donc quasi sans perte, ce qui n'est évidemment pas le\",\n",
       " \"quasi sans perte, ce qui n'est évidemment pas le cas des autres smartphones. Résultat, les images\",\n",
       " \"cas des autres smartphones. Résultat, les images sont très détaillées, bien plus qu'en 12\",\n",
       " \"images sont très détaillées, bien plus qu'en 12 mégapixels, et peuvent être retravaillées derrière\",\n",
       " 'et peuvent être retravaillées derrière sur des logiciels comme Lightroom ou Photoshop. On est',\n",
       " \"logiciels comme Lightroom ou Photoshop. On est d'accord, c'est un truc qui n'est pas à la portée de\",\n",
       " \"c'est un truc qui n'est pas à la portée de tout le monde, mais si vous ne faites que regarder vos\",\n",
       " 'le monde, mais si vous ne faites que regarder vos photos sur votre smartphone, alors cela fera',\n",
       " \"vos photos sur votre smartphone, alors cela fera grandement le taf. Pour l'ultra grand angle et le\",\n",
       " \"grandement le taf. Pour l'ultra grand angle et le tel objectif, c'est globalement la même chose que\",\n",
       " \"tel objectif, c'est globalement la même chose que l'année passée. C'est bon, ça offre de belles\",\n",
       " \"que l'année passée. C'est bon, ça offre de belles photos, mais ça reste encore un peu en retrait et\",\n",
       " \"photos, mais ça reste encore un peu en retrait et on est en droit d'attendre. Il faut aussi parler\",\n",
       " \"on est en droit d'attendre. Il faut aussi parler du module frontal, qui cette année ouvre à f1.9 au\",\n",
       " 'module frontal, qui cette année ouvre à f1.9 au lieu de f2.2, et qui permet donc de capturer plus',\n",
       " 'lieu de f2.2, et qui permet donc de capturer plus de lumière pour des selfies plus éclatantes. On',\n",
       " \"de lumière pour des selfies plus éclatantes. On peut également noter l'arrivée d'un autofocus sur\",\n",
       " \"peut également noter l'arrivée d'un autofocus sur ce module, ce qui est toujours bon à prendre. Le\",\n",
       " \"ce module, ce qui est toujours bon à prendre. Le mode portrait, lui, s'est vachement amélioré, un\",\n",
       " \"mode portrait, lui, s'est vachement amélioré, un point sur lequel Apple n'a pas forcément appuyé\",\n",
       " \"point sur lequel Apple n'a pas forcément appuyé dans sa communication. Avec le module arrière, le\",\n",
       " \"dans sa communication. Avec le module arrière, le flou d'arrière-plan sera moins forcé, et surtout,\",\n",
       " \"flou d'arrière-plan sera moins forcé, et surtout, l'appareil arrive dorénavant à gérer ce qui\",\n",
       " \"l'appareil arrive dorénavant à gérer ce qui pourrait se trouver face à votre visage et à ne rendre\",\n",
       " \"se trouver face à votre visage et à ne rendre net que ce dernier. Bon, vous voyez, j'avais pas\",\n",
       " \"net que ce dernier. Bon, vous voyez, j'avais pas vraiment menti en disant qu'on était face à l'un\",\n",
       " \"vraiment menti en disant qu'on était face à l'un des meilleurs smartphones du marché. iPhone en\",\n",
       " 'des meilleurs smartphones du marché. iPhone en parlant, on peut dire que ce 14 Pro Max est le',\n",
       " \"en parlant, on peut dire que ce 14 Pro Max est le modèle le plus mature d'Apple. Il n'est toutefois\",\n",
       " \"modèle le plus mature d'Apple. Il n'est toutefois pas parfait, mais s'en approche, à tel point\",\n",
       " \"pas parfait, mais s'en approche, à tel point qu'on peut s'interroger sur ce que peut offrir\",\n",
       " \"qu'on peut s'interroger sur ce que peut offrir l'entreprise l'année prochaine pour encore sortir du\",\n",
       " \"l'année prochaine pour encore sortir du lot. Car oui, on parle beaucoup de rotation, de trois ans\",\n",
       " \"oui, on parle beaucoup de rotation, de trois ans lorsqu'on parle des iPhones. Les X, XS et 11\",\n",
       " \"ans lorsqu'on parle des iPhones. Les X, XS et 11 fonctionnent en triptyque, tout comme les 12, 13\",\n",
       " \"fonctionnent en triptyque, tout comme les 12, 13 et 14 qui ont vu l'arrivée d'un quatrième modèle\",\n",
       " \"et 14 qui ont vu l'arrivée d'un quatrième modèle dans la gamme. On peut aussi ajouter que le\",\n",
       " 'dans la gamme. On peut aussi ajouter que le dernier modèle de chaque triptyque fait office de',\n",
       " 'dernier modèle de chaque triptyque fait office de transition pour le prochain. Avec les iPhone 11,',\n",
       " 'transition pour le prochain. Avec les iPhone 11, Apple a introduit la notion de Pro, et avec le 14',\n",
       " \"Apple a introduit la notion de Pro, et avec le 14 Pro Max, l'entreprise pourrait bien amorcer la\",\n",
       " \"14 Pro Max, l'entreprise pourrait bien amorcer la naissance d'une nouvelle gamme encore plus Pro.\",\n",
       " \"naissance d'une nouvelle gamme encore plus Pro. Ultra. Un iPhone ultime complètement différent des\",\n",
       " 'Un iPhone ultime complètement différent des autres modèles de la famille qui viendrait marquer une',\n",
       " 'modèles de la famille qui viendrait marquer une réelle segmentation, un peu comme peut le faire la',\n",
       " 'segmentation, un peu comme peut le faire la Watch Ultra cette année par rapport à une simple Watch',\n",
       " 'Ultra cette année par rapport à une simple Watch Série 8. Mais bon, voilà tous ces mots pour dire',\n",
       " 'Série 8. Mais bon, voilà tous ces mots pour dire que cet iPhone 14 Pro Max est évidemment un 5',\n",
       " \"que cet iPhone 14 Pro Max est évidemment un 5 étoiles et en même temps, on n'en attendait pas\",\n",
       " \"5 étoiles et en même temps, on n'en attendait pas moins. Le fleuron chez la concurrence, c'est la\",\n",
       " \"moins. Le fleuron chez la concurrence, c'est la note maximale qu'il a atteint, mais gardez à\",\n",
       " \"la note maximale qu'il a atteint, mais gardez à l'esprit que, comme cette encoche, notre notation\",\n",
       " \"l'esprit que, comme cette encoche, notre notation est aussi dynamique, ce qui veut dire que\",\n",
       " 'est aussi dynamique, ce qui veut dire que potentiellement dans les prochains mois, il pourrait',\n",
       " 'dans les prochains mois, il pourrait tomber à 4 étoiles, mais il pourrait tout aussi bien rester à',\n",
       " 'mais il pourrait tout aussi bien rester à 5 étoiles, suivant les smartphones qui vont sortir. Une',\n",
       " \"suivant les smartphones qui vont sortir. Une chose qui, pour le moment, n'est pas vraiment\",\n",
       " \"Une chose qui, pour le moment, n'est pas vraiment dynamique, et il faut le rappeler quand même,\",\n",
       " \"dynamique, et il faut le rappeler quand même, c'est le tarif. Si vous avez suivi depuis la keynote,\",\n",
       " 'le tarif. Si vous avez suivi depuis la keynote, en France, on est à des tarifs qui sont supérieurs',\n",
       " 'France, on est à des tarifs qui sont supérieurs à 300€ selon les variantes et les différents',\n",
       " \"à 300€ selon les variantes et les différents modèles de la gamme. A titre d'exemple, un iPhone 14\",\n",
       " \"de la gamme. A titre d'exemple, un iPhone 14 Pro démarre à 1329€ et le plus cher des 14 Pro Max\",\n",
       " \"démarre à 1329€ et le plus cher des 14 Pro Max peut atteindre facilement la barre des 2100€. C'est\",\n",
       " \"atteindre facilement la barre des 2100€. C'est certes un sacré investissement, mais ce n'est pas un\",\n",
       " \"un sacré investissement, mais ce n'est pas un investissement que vous avez besoin de faire\",\n",
       " 'un investissement que vous avez besoin de faire maintenant, surtout si vous envisagez de changer de',\n",
       " \"surtout si vous envisagez de changer de smartphone l'année prochaine avec l'arrivée des iPhone 15\",\n",
       " \"l'année prochaine avec l'arrivée des iPhone 15 et potentiellement de l'USB-C à la place du\",\n",
       " \"15 et potentiellement de l'USB-C à la place du Lightning. Finalement, le smartphone peut s'adresser\",\n",
       " \"Finalement, le smartphone peut s'adresser à ceux qui ont un iPhone assez vieux, on pense évidemment\",\n",
       " 'ont un iPhone assez vieux, on pense évidemment à un iPhone 10, 16, voire 11, si vous voulez',\n",
       " \"à un iPhone 10, 16, voire 11, si vous voulez vraiment profiter du gap technologique qu'il y a eu 4\",\n",
       " \"profiter du gap technologique qu'il y a eu 4 dernières années. Si vous avez un iPhone 12 ou 13,\",\n",
       " 'années. Si vous avez un iPhone 12 ou 13, honnêtement, gardez-le encore peut-être une année et',\n",
       " \"gardez-le encore peut-être une année et envisagez l'achat d'un nouvel iPhone lors de l'iPhone 15,\",\n",
       " \"l'achat d'un nouvel iPhone lors de l'iPhone 15, de l'iPhone 15 Pro et peut-être de l'iPhone 15\",\n",
       " \"de l'iPhone 15 Pro et peut-être de l'iPhone 15 Ultra. Voilà, c'est tout pour cette vidéo, c'est\",\n",
       " \"Ultra. Voilà, c'est tout pour cette vidéo, c'est tout pour ce test de l'iPhone 14 Pro Max. On peut\",\n",
       " \"tout pour ce test de l'iPhone 14 Pro Max. On peut compter le 14 Pro là-dedans. J'espère avoir\",\n",
       " \"peut compter le 14 Pro là-dedans. J'espère avoir répondu à toutes vos questions. Si vous en avez\",\n",
       " \"répondu à toutes vos questions. Si vous en avez d'autres, n'hésitez pas à les poser dans les\",\n",
       " \"avez d'autres, n'hésitez pas à les poser dans les commentaires, on y répondra évidemment. Moi, je\",\n",
       " 'commentaires, on y répondra évidemment. Moi, je vous dis à la prochaine et je vous fais des bisous.']"
      ]
     },
     "execution_count": 9,
     "metadata": {},
     "output_type": "execute_result"
    }
   ],
   "source": [
    "# Chunk size too small, overlap \n",
    "r_splitter = RecursiveCharacterTextSplitter(\n",
    "    chunk_size=100,\n",
    "    chunk_overlap=50, # Add overlap\n",
    "    separators=[\"\\n\\n\", \"\\n\", \" \", \"\"]\n",
    ")\n",
    "\n",
    "r_splitter.split_text(sample_text)"
   ]
  },
  {
   "cell_type": "code",
   "execution_count": 10,
   "metadata": {
    "scrolled": true
   },
   "outputs": [
    {
     "data": {
      "text/plain": [
       "[\"Bonjour à tous et bienvenue sur Les Numériques. Alors, comme chaque année, le mois de septembre, c'est réservé aux iPhones. Et 2022, évidemment, ne déroge pas la règle. Cette année, on aura vu débarquer la série 14 avec les iPhones 14 et les iPhones 14 Pro. Alors, dans cette vidéo aujourd'hui, on va plutôt s'intéresser aux versions Pro. On reviendra évidemment sur les 14 classiques lors de la sortie de la variante Plus de cet octobre. Mais bref, trêve de bavardage.\",\n",
       " \"Je sais que vous voulez savoir ce que vaut ce dernier iPhone. Eh bien, pour la faire court, c'est excellent. Et en même temps, on n'en attendait pas moins d'Apple. On est là face à un des meilleurs smartphones présents sur le marché. Mais ça, c'est vraiment pour résumer. Dans le détail, on peut parler de cet écran OLED qui est le plus lumineux que nous ayons pu voir sur un smartphone. Il peut monter jusqu'à 1955 nits, là où Apple en promet 2000.\",\n",
       " \"A titre de comparaison, une dalle d'ordinateur portable dépasse rarement les 500 nits et un téléviseur OLED tutoie les 1000 nits pour les meilleurs. On a déjà atteint du 2000 nits sur des téléviseurs mini-LED, mais c'était vraiment sur du haut de gamme. Alors, avoir une telle luminosité permet donc de bénéficier d'un confort total pour utiliser cet écran, qu'il fasse jour ou nuit. Alors, on peut également aborder la partie des performances, mais de manière très succincte.\",\n",
       " \"Avec cette nouvelle puce, Apple a 16 bionic gravés en 4 nanomètres et qui offre ce qui se fait de mieux en termes de puissance dans un smartphone. Évidemment, on le sait, Apple s'est toujours réglé aux petits oignons. En gérant la conception de sa puce et en même temps de son OS de bout en bout, eh bien, on arrive à avoir des smartphones performants qui surplacent ce qu'on peut trouver sur Android, même si cette année, le gap est assez faible en termes de performance.\",\n",
       " \"Enfin, on va finir par parler de l'autonomie qui est toujours aussi monstrueuse. Depuis l'iPhone 11 Pro Max, Apple a fait de véritables efforts sur ce point. Une application qui a perduré et qui s'est même grandement améliorée avec le modèle 12 Pro Max. En l'état, le plus gros des modèles peut tenir aisément la journée d'utilisation et on peut pousser l'usage jusqu'à une journée et demie en fonction de ce qu'on fait avec le smartphone.\",\n",
       " \"Par contre, il va falloir qu'on parle de la charge puisqu'elle est certes rapide, mais ne se fait qu'à une puissance maximale de 26 watts. Ça permet à l'iPhone 14 Pro Max de retrouver toute son autonomie en 1h30, ce qui, on est d'accord, reste très long par rapport à la concurrence sur le haut de gamme. On profite aussi d'une charge sans fil à 7,5 watts ainsi que de MagSafe à 15 watts. Mais encore une fois, ce n'est pas la plus rapide du marché, mais au moins, elle a le mérite d'être rapide.\",\n",
       " \"Tous les points cités juste avant sont importants pour quiconque veut un smartphone, c'est sûr, mais ce n'est pas les points sur lesquels Apple insiste avec son tout dernier modèle. Avant de parler de la photo, on va s'attaquer au design. Bon, inutile de dire qu'il n'y a clairement pas de révolution. Un oeil non aguerri ne verrait pas la différence entre un iPhone 13 et un iPhone 14 Pro Max. Sauf à reconnaître la nouvelle couleur violette.\",\n",
       " \"On peut surtout voir que la taille de l'iglo-photo a bien augmenté, encore une fois, mais on y reviendra un peu plus tard. La vraie différence stylistique cette année réside dans l'écran et s'est même trouvé un petit nom, Dynamic Highland. Ouais, l'iPhone 14 Pro Max et l'O Pro signent la mort de l'encoche et la naissance du poinçon ou de la pilule, c'est comme on veut. Avec cette nouveauté, Apple trouve surtout un moyen de rendre utile ce que beaucoup considèrent comme gênant.\",\n",
       " \"Et en même temps, cet espace noir n'est pas là pour nous embêter puisqu'elle abrite les capteurs nécessaires à Face ID. Si l'espace est considérablement réduit depuis le début, Apple ne semble pas avoir encore trouvé comment le faire disparaître totalement sous un écran. Alors autant en faire une force et jouer avec en proposant une sorte de second écran superposé au reste. Ce dernier permet d'afficher en permanence l'écoute musicale, un trajet sur Maps ou encore un enregistrement audio.\",\n",
       " \"Mais de manière ponctuelle, il peut s'animer lors de la recharge, quand on passe les 20% d'autonomie, ou encore lors de la réception d'un appel. En définitive, ce sont des usages encore un peu maigres et assez Apple-centrés. Comme les widgets arrivaient avec iOS 16, il va falloir attendre que les développeurs tiers se penchent sur le sujet pour que la nouveauté soit autre chose qu'un gadget. Pour le reste, la Dynamic Island est présente.\",\n",
       " \"Moins discrète qu'une encoche, c'est certain, mais c'est un nouveau temps d'adaptation qu'il va falloir prendre. Allez, je sais que vous l'attendiez. Abordons enfin la partie que tout le monde attend en photo. Que vaut ce nouvel iPhone ? Alors déjà, on va commencer par saluer la performance délivrée par le nouveau capteur de 48 mégapixels. Franchement, ça faisait longtemps qu'on attendait et Apple parvient à proposer quelque chose de très propre.\",\n",
       " \"Il faut dire que contrairement à la concurrence, les photos en 48 mégapixels sont capturées au format RAW, donc quasi sans perte, ce qui n'est évidemment pas le cas des autres smartphones. Résultat, les images sont très détaillées, bien plus qu'en 12 mégapixels, et peuvent être retravaillées derrière sur des logiciels comme Lightroom ou Photoshop.\",\n",
       " \"On est d'accord, c'est un truc qui n'est pas à la portée de tout le monde, mais si vous ne faites que regarder vos photos sur votre smartphone, alors cela fera grandement le taf. Pour l'ultra grand angle et le tel objectif, c'est globalement la même chose que l'année passée. C'est bon, ça offre de belles photos, mais ça reste encore un peu en retrait et on est en droit d'attendre.\",\n",
       " \"Il faut aussi parler du module frontal, qui cette année ouvre à f1.9 au lieu de f2.2, et qui permet donc de capturer plus de lumière pour des selfies plus éclatantes. On peut également noter l'arrivée d'un autofocus sur ce module, ce qui est toujours bon à prendre. Le mode portrait, lui, s'est vachement amélioré, un point sur lequel Apple n'a pas forcément appuyé dans sa communication.\",\n",
       " \"Avec le module arrière, le flou d'arrière-plan sera moins forcé, et surtout, l'appareil arrive dorénavant à gérer ce qui pourrait se trouver face à votre visage et à ne rendre net que ce dernier. Bon, vous voyez, j'avais pas vraiment menti en disant qu'on était face à l'un des meilleurs smartphones du marché. iPhone en parlant, on peut dire que ce 14 Pro Max est le modèle le plus mature d'Apple.\",\n",
       " \"Il n'est toutefois pas parfait, mais s'en approche, à tel point qu'on peut s'interroger sur ce que peut offrir l'entreprise l'année prochaine pour encore sortir du lot. Car oui, on parle beaucoup de rotation, de trois ans lorsqu'on parle des iPhones. Les X, XS et 11 fonctionnent en triptyque, tout comme les 12, 13 et 14 qui ont vu l'arrivée d'un quatrième modèle dans la gamme. On peut aussi ajouter que le dernier modèle de chaque triptyque fait office de transition pour le prochain.\",\n",
       " \"Avec les iPhone 11, Apple a introduit la notion de Pro, et avec le 14 Pro Max, l'entreprise pourrait bien amorcer la naissance d'une nouvelle gamme encore plus Pro. Ultra. Un iPhone ultime complètement différent des autres modèles de la famille qui viendrait marquer une réelle segmentation, un peu comme peut le faire la Watch Ultra cette année par rapport à une simple Watch Série 8.\",\n",
       " \"Mais bon, voilà tous ces mots pour dire que cet iPhone 14 Pro Max est évidemment un 5 étoiles et en même temps, on n'en attendait pas moins. Le fleuron chez la concurrence, c'est la note maximale qu'il a atteint, mais gardez à l'esprit que, comme cette encoche, notre notation est aussi dynamique, ce qui veut dire que potentiellement dans les prochains mois, il pourrait tomber à 4 étoiles, mais il pourrait tout aussi bien rester à 5 étoiles, suivant les smartphones qui vont sortir.\",\n",
       " \"Une chose qui, pour le moment, n'est pas vraiment dynamique, et il faut le rappeler quand même, c'est le tarif. Si vous avez suivi depuis la keynote, en France, on est à des tarifs qui sont supérieurs à 300€ selon les variantes et les différents modèles de la gamme. A titre d'exemple, un iPhone 14 Pro démarre à 1329€ et le plus cher des 14 Pro Max peut atteindre facilement la barre des 2100€.\",\n",
       " \"C'est certes un sacré investissement, mais ce n'est pas un investissement que vous avez besoin de faire maintenant, surtout si vous envisagez de changer de smartphone l'année prochaine avec l'arrivée des iPhone 15 et potentiellement de l'USB-C à la place du Lightning. Finalement, le smartphone peut s'adresser à ceux qui ont un iPhone assez vieux, on pense évidemment à un iPhone 10, 16, voire 11, si vous voulez vraiment profiter du gap technologique qu'il y a eu 4 dernières années.\",\n",
       " \"Si vous avez un iPhone 12 ou 13, honnêtement, gardez-le encore peut-être une année et envisagez l'achat d'un nouvel iPhone lors de l'iPhone 15, de l'iPhone 15 Pro et peut-être de l'iPhone 15 Ultra. Voilà, c'est tout pour cette vidéo, c'est tout pour ce test de l'iPhone 14 Pro Max. On peut compter le 14 Pro là-dedans. J'espère avoir répondu à toutes vos questions. Si vous en avez d'autres, n'hésitez pas à les poser dans les commentaires, on y répondra évidemment.\",\n",
       " 'Moi, je vous dis à la prochaine et je vous fais des bisous.']"
      ]
     },
     "execution_count": 10,
     "metadata": {},
     "output_type": "execute_result"
    }
   ],
   "source": [
    "# Chunk size big enough\n",
    "r_splitter = RecursiveCharacterTextSplitter(\n",
    "    chunk_size=500,\n",
    "    chunk_overlap=0,\n",
    "    separators=[\"\\n\\n\", \"\\n\", \"(?<=\\. )\", \" \", \"\"]\n",
    ")\n",
    "\n",
    "r_splitter.split_text(sample_text)"
   ]
  },
  {
   "cell_type": "code",
   "execution_count": 11,
   "metadata": {
    "scrolled": true
   },
   "outputs": [],
   "source": [
    "docs = r_splitter.split_documents(pages)\n",
    "save_docs_to_jsonl(docs, PATH_NAME_SPLITTER)"
   ]
  }
 ],
 "metadata": {
  "kernelspec": {
   "display_name": "rag_env",
   "language": "python",
   "name": "rag_env"
  },
  "language_info": {
   "codemirror_mode": {
    "name": "ipython",
    "version": 3
   },
   "file_extension": ".py",
   "mimetype": "text/x-python",
   "name": "python",
   "nbconvert_exporter": "python",
   "pygments_lexer": "ipython3",
   "version": "3.10.12"
  }
 },
 "nbformat": 4,
 "nbformat_minor": 4
}
