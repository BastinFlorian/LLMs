{
 "cells": [
  {
   "cell_type": "markdown",
   "metadata": {},
   "source": [
    "# Smartphones and Watches advisor\n",
    "In this serie of notebooks we will:\n",
    "- Load text from a Youtube video playlist\n",
    "- Split loaded text into appropriate chunks\n",
    "- **Create a vector store to load chunk embeddings**\n",
    "- Create a Question Answering chatbot:\n",
    "\n",
    "    - with different prompts techniques\n",
    "    - with different similarity measures\n",
    "    - with or without chat memory \n",
    "\n",
    "!['Data Connection'](../../images/les_numeriques_youtube/data_connection.png)\n",
    "\n",
    "\n",
    "# Create a vector store to load chunk embeddings\n",
    "\n",
    "We will do the following steps:\n",
    "- Embed the chunks\n",
    "- Store them in a Vector Store\n",
    "- Apply two retrieval techniques:\n",
    "    - Semantic similarity\n",
    "    - Maximum marginal relevance"
   ]
  },
  {
   "cell_type": "code",
   "execution_count": 1,
   "metadata": {},
   "outputs": [],
   "source": [
    "%load_ext autoreload\n",
    "%autoreload 2"
   ]
  },
  {
   "cell_type": "code",
   "execution_count": 2,
   "metadata": {
    "ExecuteTime": {
     "end_time": "2023-07-10T13:40:19.285910490Z",
     "start_time": "2023-07-10T13:40:19.239925622Z"
    }
   },
   "outputs": [],
   "source": [
    "# Imports \n",
    "# Env var\n",
    "import sys\n",
    "from dotenv import load_dotenv, find_dotenv\n",
    "\n",
    "# Langchain\n",
    "from langchain.vectorstores import Chroma, MyScale, MyScaleSettings\n",
    "from langchain.embeddings.openai import OpenAIEmbeddings\n",
    "\n",
    "# MyScale\n",
    "from clickhouse_connect.driver.exceptions import DatabaseError\n",
    "\n",
    "# Save loader\n",
    "from utils import load_docs_from_jsonl, save_docs_to_jsonl, count_lines_in_myscale"
   ]
  },
  {
   "cell_type": "code",
   "execution_count": 3,
   "metadata": {
    "ExecuteTime": {
     "end_time": "2023-07-10T13:40:02.678296731Z",
     "start_time": "2023-07-10T13:40:02.652210868Z"
    }
   },
   "outputs": [],
   "source": [
    "PATH_NAME_SPLITTER = './splitted_docs.jsonl'"
   ]
  },
  {
   "cell_type": "code",
   "execution_count": 4,
   "metadata": {
    "ExecuteTime": {
     "end_time": "2023-07-10T13:40:22.634518460Z",
     "start_time": "2023-07-10T13:40:22.612699517Z"
    }
   },
   "outputs": [
    {
     "data": {
      "text/plain": [
       "True"
      ]
     },
     "execution_count": 4,
     "metadata": {},
     "output_type": "execute_result"
    }
   ],
   "source": [
    "# Env variable\n",
    "sys.path.append('../..')\n",
    "load_dotenv(find_dotenv())"
   ]
  },
  {
   "cell_type": "code",
   "execution_count": 5,
   "metadata": {
    "ExecuteTime": {
     "end_time": "2023-07-10T13:40:27.571889779Z",
     "start_time": "2023-07-10T13:40:27.505989604Z"
    }
   },
   "outputs": [],
   "source": [
    "docs = load_docs_from_jsonl(PATH_NAME_SPLITTER)"
   ]
  },
  {
   "cell_type": "markdown",
   "metadata": {},
   "source": [
    "Let's look at the first chunk"
   ]
  },
  {
   "cell_type": "code",
   "execution_count": 6,
   "metadata": {
    "ExecuteTime": {
     "end_time": "2023-07-10T13:40:36.397871855Z",
     "start_time": "2023-07-10T13:40:36.378980727Z"
    }
   },
   "outputs": [
    {
     "data": {
      "text/plain": [
       "Document(page_content=\"Bonjour à tous et bienvenue sur Les Numériques. Alors, comme chaque année, le mois de septembre, c'est réservé aux iPhones. Et 2022, évidemment, ne déroge pas la règle. Cette année, on aura vu débarquer la série 14 avec les iPhones 14 et les iPhones 14 Pro. Alors, dans cette vidéo aujourd'hui, on va plutôt s'intéresser aux versions Pro. On reviendra évidemment sur les 14 classiques lors de la sortie de la variante Plus de cet octobre. Mais bref, trêve de bavardage.\", metadata={'source': 'docs/youtube/[TEST] iPhone 14 Pro et Pro Max ： la maturité avant les changements ？.m4a', 'chunk': 0})"
      ]
     },
     "execution_count": 6,
     "metadata": {},
     "output_type": "execute_result"
    }
   ],
   "source": [
    "docs[0]"
   ]
  },
  {
   "cell_type": "code",
   "execution_count": 7,
   "metadata": {
    "ExecuteTime": {
     "end_time": "2023-07-10T13:40:36.988245820Z",
     "start_time": "2023-07-10T13:40:36.980663478Z"
    }
   },
   "outputs": [],
   "source": [
    "# Embedding model\n",
    "embedding = OpenAIEmbeddings()"
   ]
  },
  {
   "cell_type": "markdown",
   "metadata": {},
   "source": [
    "### Chroma"
   ]
  },
  {
   "cell_type": "code",
   "execution_count": 8,
   "metadata": {
    "ExecuteTime": {
     "end_time": "2023-07-10T13:40:47.993757398Z",
     "start_time": "2023-07-10T13:40:38.829968192Z"
    }
   },
   "outputs": [
    {
     "name": "stdout",
     "output_type": "stream",
     "text": [
      "815\n"
     ]
    }
   ],
   "source": [
    "# Vector store \n",
    "persist_directory = 'docs/chroma/'\n",
    "!rm -rf ./docs/chroma  # remove old database files if any\n",
    "vectordb = Chroma.from_documents(\n",
    "    documents=docs,\n",
    "    embedding=embedding,\n",
    "    persist_directory=persist_directory\n",
    ")\n",
    "\n",
    "print(vectordb._collection.count())"
   ]
  },
  {
   "cell_type": "markdown",
   "metadata": {},
   "source": [
    "### Question retrieval "
   ]
  },
  {
   "cell_type": "code",
   "execution_count": 9,
   "metadata": {
    "ExecuteTime": {
     "end_time": "2023-07-10T13:40:47.997517362Z",
     "start_time": "2023-07-10T13:40:47.994188213Z"
    }
   },
   "outputs": [],
   "source": [
    "question = \"\"\"Quelles sont les caractéristiques de l'iPhone 14 ?\"\"\""
   ]
  },
  {
   "cell_type": "markdown",
   "metadata": {},
   "source": [
    "## Semantic similarity search\n",
    "[LangChain doc](https://python.langchain.com/docs/modules/model_io/prompts/example_selectors/similarity) \n",
    "\n",
    "This object selects examples based on **similarity** to the inputs. \n",
    "\n",
    "It does this by finding the examples with the embeddings that have the greatest cosine similarity with the inputs."
   ]
  },
  {
   "cell_type": "code",
   "execution_count": 13,
   "metadata": {
    "ExecuteTime": {
     "end_time": "2023-07-10T13:40:48.326866750Z",
     "start_time": "2023-07-10T13:40:47.999534144Z"
    }
   },
   "outputs": [
    {
     "data": {
      "text/plain": [
       "[Document(page_content=\"Comme prévu lors de sa canote de rentrée, Apple a annoncé non pas un, non pas deux, non pas trois, mais bien quatre iPhones. Pas d'iPhone mini au programme, mais ça c'était prévu. A la place on se retrouve avec un iPhone 14, un iPhone 14+, un iPhone 14 Pro et un iPhone 14 Pro Max et je vous propose qu'on décortique tout ça maintenant. On va commencer avec les deux entrées de gamme qui sont les iPhone 14 et les iPhone 14+.\", metadata={'source': \"docs/youtube/iPhone 14 ： la gamme Pro gâtée, l'autre oubliée.m4a\", 'chunk': 0}),\n",
       " Document(page_content=\"Alors esthétiquement, il n'y a rien de nouveau par rapport aux iPhone 13 mini et aux iPhone 13 de l'année dernière. A l'intérieur, c'est quasiment la même chose, sauf que l'on retrouve la puce Apple A15 Bionic que l'on retrouvait dans les iPhone 13 Pro et 13 Pro Max en 2021. Du côté de l'iPhone 14, on garde le même gabarit qu'avec l'iPhone 13 et du côté de l'iPhone 14+, on prend le même gabarit qu'un iPhone 14 Pro Max. Effectivement, c'est le grand modèle de cette entrée de gamme cette année.\", metadata={'source': \"docs/youtube/iPhone 14 ： la gamme Pro gâtée, l'autre oubliée.m4a\", 'chunk': 0}),\n",
       " Document(page_content=\"On a donc un écran de 6,7 pouces, mais pour le reste, c'est exactement la même fiche technique qu'un iPhone 14. La batterie a été améliorée, mais ça c'est grâce à la nouvelle puce. En photo, très peu de changements, si ce n'est qu'on récupère les capteurs qui étaient présents sur les iPhone 13 Pro pour le principal et pour l'ultra grand-angle. Le module frontal a été entièrement revu.\", metadata={'source': \"docs/youtube/iPhone 14 ： la gamme Pro gâtée, l'autre oubliée.m4a\", 'chunk': 0}),\n",
       " Document(page_content=\"Et enfin, contrairement aux 14 Pro et 14 Pro Max, on n'a pas de nouveau design sur l'écran, ce qui fait qu'on garde encore l'encoche et qu'on n'a pas le droit au Dynamic Island, sur lequel je reviendrai tout de suite. On passe maintenant au plus gros du morceau, aux plus intéressants, qui sont les iPhone 14 et les iPhone 14 Pro Max. Alors, ils gardent le même design que l'année dernière, ils gardent la même taille d'écran que l'année dernière. On a donc 6,1 et 6,7 pouces.\", metadata={'source': \"docs/youtube/iPhone 14 ： la gamme Pro gâtée, l'autre oubliée.m4a\", 'chunk': 0}),\n",
       " Document(page_content=\"On aura également un iPhone 13 Pro Max, qui est la plus grande des versions, mais également un iPhone 13 mini, malgré le succès mitigé de l'iPhone 12 mini l'année passée. Il se peut toutefois que l'iPhone 13 mini soit le dernier de sa génération et que l'an prochain, Apple ne reconduisent pas un iPhone 14 mini. Après le design, on peut parler de l'écran. En effet, cette année, Apple pourrait introduire sur ses iPhone 13 un écran rafraîchi à 120 Hz.\", metadata={'source': 'docs/youtube/iPhone 13 ： dates, rumeurs, ragots....m4a', 'chunk': 0})]"
      ]
     },
     "execution_count": 13,
     "metadata": {},
     "output_type": "execute_result"
    }
   ],
   "source": [
    "ss_res = vectordb.similarity_search(\n",
    "    question,\n",
    "    k=5\n",
    ")\n",
    "\n",
    "ss_res"
   ]
  },
  {
   "cell_type": "markdown",
   "metadata": {},
   "source": [
    "## Maximum marginal relevance (MMR)\n",
    "[LangChain doc](https://python.langchain.com/docs/modules/model_io/prompts/example_selectors/mmr) \n",
    "\n",
    "The **Maximum marginal relevance** selects examples based on a combination of which examples are most similar to the inputs, while also optimizing for diversity. \n",
    "\n",
    "It does this by finding the examples with the embeddings that have the greatest cosine similarity with the inputs, and then iteratively adding them while penalizing them for closeness to already selected examples."
   ]
  },
  {
   "cell_type": "markdown",
   "metadata": {},
   "source": [
    "![MMR.png](../../images/les_numeriques_youtube/MMR.png)"
   ]
  },
  {
   "cell_type": "code",
   "execution_count": 14,
   "metadata": {
    "ExecuteTime": {
     "end_time": "2023-07-10T13:40:48.667174190Z",
     "start_time": "2023-07-10T13:40:48.316150339Z"
    }
   },
   "outputs": [
    {
     "data": {
      "text/plain": [
       "[Document(page_content=\"Comme prévu lors de sa canote de rentrée, Apple a annoncé non pas un, non pas deux, non pas trois, mais bien quatre iPhones. Pas d'iPhone mini au programme, mais ça c'était prévu. A la place on se retrouve avec un iPhone 14, un iPhone 14+, un iPhone 14 Pro et un iPhone 14 Pro Max et je vous propose qu'on décortique tout ça maintenant. On va commencer avec les deux entrées de gamme qui sont les iPhone 14 et les iPhone 14+.\", metadata={'source': \"docs/youtube/iPhone 14 ： la gamme Pro gâtée, l'autre oubliée.m4a\", 'chunk': 0}),\n",
       " Document(page_content=\"On a donc un écran de 6,7 pouces, mais pour le reste, c'est exactement la même fiche technique qu'un iPhone 14. La batterie a été améliorée, mais ça c'est grâce à la nouvelle puce. En photo, très peu de changements, si ce n'est qu'on récupère les capteurs qui étaient présents sur les iPhone 13 Pro pour le principal et pour l'ultra grand-angle. Le module frontal a été entièrement revu.\", metadata={'source': \"docs/youtube/iPhone 14 ： la gamme Pro gâtée, l'autre oubliée.m4a\", 'chunk': 0}),\n",
       " Document(page_content=\"Alors, premier point, le design. Vous aurez remarqué que les iPhone 13 ressemblent beaucoup aux iPhone 12 et au jeu des sept différences, il n'y a pas grand-chose à relever. Alors, je ne sais pas pour toi, mais moi, à part l'encoche et un point un petit peu plus élevé, j'ai peu de choses à dire. Donc l'encoche est un petit peu plus réduite sur les iPhone 13, tout modèle confondu. Et puis à part ça, c'est tout. Sur les iPhone 13 Pro et Pro Max, il y a quand même d'autres choses à relever.\", metadata={'source': 'docs/youtube/Test iPhone 13 ： notre verdict sur toute la gamme.m4a', 'chunk': 0}),\n",
       " Document(page_content=\"D'après certaines rumeurs, les iPhone 13 posséderaient une bobine de cuivre plus large que sur les iPhone 12, ce qui permettrait d'offrir une charge rapide sans fil plus rapide que l'an passé, notamment grâce à la technologie MagSafe qui a été introduite avec les iPhone 12 l'année passée. Pour terminer sur le gros des nouveautés des iPhone 13, comment ne pas parler de la photographie ? Cette année et comme l'année dernière, ils bénéficieront tous de deux ou trois modules.\", metadata={'source': 'docs/youtube/iPhone 13 ： dates, rumeurs, ragots....m4a', 'chunk': 0}),\n",
       " Document(page_content=\"Sur la batterie, Apple n'en a pas vraiment parlé, mais lorsqu'elle a présenté son Apple A16, l'affirme a parlé d'efficience énergétique, donc on peut s'attendre à gagner un peu en autonomie, mais ce ne sera pas aussi stratosphérique que le changement qu'on a eu entre les iPhone 12 et les iPhone 13, par exemple. Évidemment, comment parler des iPhone sans parler de la grosse nouveauté commune aux quatre modèles ? La communication via les satellites.\", metadata={'source': \"docs/youtube/iPhone 14 ： la gamme Pro gâtée, l'autre oubliée.m4a\", 'chunk': 0})]"
      ]
     },
     "execution_count": 14,
     "metadata": {},
     "output_type": "execute_result"
    }
   ],
   "source": [
    "mmr_res = vectordb.max_marginal_relevance_search(\n",
    "    question,\n",
    "    k=5,\n",
    "    fetch_k=20\n",
    ")\n",
    "\n",
    "mmr_res"
   ]
  },
  {
   "cell_type": "code",
   "execution_count": 16,
   "metadata": {},
   "outputs": [
    {
     "name": "stdout",
     "output_type": "stream",
     "text": [
      "\n",
      " MMR Extra chunk \n",
      "\n",
      "page_content=\"Alors, premier point, le design. Vous aurez remarqué que les iPhone 13 ressemblent beaucoup aux iPhone 12 et au jeu des sept différences, il n'y a pas grand-chose à relever. Alors, je ne sais pas pour toi, mais moi, à part l'encoche et un point un petit peu plus élevé, j'ai peu de choses à dire. Donc l'encoche est un petit peu plus réduite sur les iPhone 13, tout modèle confondu. Et puis à part ça, c'est tout. Sur les iPhone 13 Pro et Pro Max, il y a quand même d'autres choses à relever.\" metadata={'source': 'docs/youtube/Test iPhone 13 ： notre verdict sur toute la gamme.m4a', 'chunk': 0}\n",
      "\n",
      "page_content=\"D'après certaines rumeurs, les iPhone 13 posséderaient une bobine de cuivre plus large que sur les iPhone 12, ce qui permettrait d'offrir une charge rapide sans fil plus rapide que l'an passé, notamment grâce à la technologie MagSafe qui a été introduite avec les iPhone 12 l'année passée. Pour terminer sur le gros des nouveautés des iPhone 13, comment ne pas parler de la photographie ? Cette année et comme l'année dernière, ils bénéficieront tous de deux ou trois modules.\" metadata={'source': 'docs/youtube/iPhone 13 ： dates, rumeurs, ragots....m4a', 'chunk': 0}\n",
      "\n",
      "page_content=\"Sur la batterie, Apple n'en a pas vraiment parlé, mais lorsqu'elle a présenté son Apple A16, l'affirme a parlé d'efficience énergétique, donc on peut s'attendre à gagner un peu en autonomie, mais ce ne sera pas aussi stratosphérique que le changement qu'on a eu entre les iPhone 12 et les iPhone 13, par exemple. Évidemment, comment parler des iPhone sans parler de la grosse nouveauté commune aux quatre modèles ? La communication via les satellites.\" metadata={'source': \"docs/youtube/iPhone 14 ： la gamme Pro gâtée, l'autre oubliée.m4a\", 'chunk': 0}\n",
      "\n",
      " SS Extra chunk \n",
      "\n",
      "page_content=\"Alors esthétiquement, il n'y a rien de nouveau par rapport aux iPhone 13 mini et aux iPhone 13 de l'année dernière. A l'intérieur, c'est quasiment la même chose, sauf que l'on retrouve la puce Apple A15 Bionic que l'on retrouvait dans les iPhone 13 Pro et 13 Pro Max en 2021. Du côté de l'iPhone 14, on garde le même gabarit qu'avec l'iPhone 13 et du côté de l'iPhone 14+, on prend le même gabarit qu'un iPhone 14 Pro Max. Effectivement, c'est le grand modèle de cette entrée de gamme cette année.\" metadata={'source': \"docs/youtube/iPhone 14 ： la gamme Pro gâtée, l'autre oubliée.m4a\", 'chunk': 0}\n",
      "\n",
      "page_content=\"Et enfin, contrairement aux 14 Pro et 14 Pro Max, on n'a pas de nouveau design sur l'écran, ce qui fait qu'on garde encore l'encoche et qu'on n'a pas le droit au Dynamic Island, sur lequel je reviendrai tout de suite. On passe maintenant au plus gros du morceau, aux plus intéressants, qui sont les iPhone 14 et les iPhone 14 Pro Max. Alors, ils gardent le même design que l'année dernière, ils gardent la même taille d'écran que l'année dernière. On a donc 6,1 et 6,7 pouces.\" metadata={'source': \"docs/youtube/iPhone 14 ： la gamme Pro gâtée, l'autre oubliée.m4a\", 'chunk': 0}\n",
      "\n",
      "page_content=\"On aura également un iPhone 13 Pro Max, qui est la plus grande des versions, mais également un iPhone 13 mini, malgré le succès mitigé de l'iPhone 12 mini l'année passée. Il se peut toutefois que l'iPhone 13 mini soit le dernier de sa génération et que l'an prochain, Apple ne reconduisent pas un iPhone 14 mini. Après le design, on peut parler de l'écran. En effet, cette année, Apple pourrait introduire sur ses iPhone 13 un écran rafraîchi à 120 Hz.\" metadata={'source': 'docs/youtube/iPhone 13 ： dates, rumeurs, ragots....m4a', 'chunk': 0}\n"
     ]
    }
   ],
   "source": [
    "print(\"\\n MMR Extra chunk \\n\")\n",
    "print(\"\\n\\n\".join([str(chunk) for chunk in mmr_res if chunk not in ss_res]))\n",
    "\n",
    "print(\"\\n SS Extra chunk \\n\")\n",
    "print(\"\\n\\n\".join([str(chunk) for chunk in ss_res if chunk not in mmr_res]))"
   ]
  },
  {
   "cell_type": "code",
   "execution_count": 17,
   "metadata": {
    "ExecuteTime": {
     "end_time": "2023-07-10T13:40:48.900658274Z",
     "start_time": "2023-07-10T13:40:48.673897607Z"
    }
   },
   "outputs": [],
   "source": [
    "# Persist the vector database\n",
    "vectordb.persist()"
   ]
  },
  {
   "cell_type": "markdown",
   "metadata": {},
   "source": [
    "# MyScale\n",
    "\n",
    "**MyScale** est une vector database hébergée sur le Cloud, ayant un free-tier.\n",
    "Nous nous sommes créés un compte pour ce tutoriel, et un cluster nommé `les_numeriques_youtube`.\n",
    "Depuis l'interface web de **MyScale**, nous aurons pu récupérer les paramètres de connection du cluster.\n",
    "\n",
    "Ceux-ci sont à rentrer dans le fichier `.env` avec le préfixe `MYSCALE_`:\n",
    "- `MYSCALE_HOST`\n",
    "- `MYSCALE_PORT`\n",
    "- `MYSCALE_USERNAME`\n",
    "- `MYSCALE_PASSWORD`\n",
    "\n",
    "L'objet `MyScaleSettings` pourra récupérer ces paramètres en lui fournissant le lien du fichier `.env`.\n"
   ]
  },
  {
   "cell_type": "code",
   "execution_count": 18,
   "metadata": {
    "ExecuteTime": {
     "end_time": "2023-07-10T13:47:09.113244043Z",
     "start_time": "2023-07-10T13:42:05.587655367Z"
    }
   },
   "outputs": [
    {
     "name": "stdout",
     "output_type": "stream",
     "text": [
      "Nombre de lignes dans la table: 815\n",
      "Nombre de lignes finales dans la table: 815\n"
     ]
    }
   ],
   "source": [
    "settings = MyScaleSettings(_env_file=find_dotenv())\n",
    "\n",
    "myscale = None\n",
    "try:\n",
    "    # Let's check that we do not already have a database or that it's not empty\n",
    "    myscale = MyScale(embedding, settings)\n",
    "    \n",
    "    count = count_lines_in_myscale(myscale)\n",
    "    print(f\"Nombre de lignes dans la table: {count}\")\n",
    "    if count == 0:\n",
    "        raise ValueError(\"Il devrait y avoir des lignes dans la base de donnée, or il n'y en a pas.\")\n",
    "except (DatabaseError, ValueError):\n",
    "    # No table exist\n",
    "    print(\"Création de la table\")\n",
    "    \n",
    "    myscale = MyScale.from_documents(\n",
    "        documents=docs,\n",
    "        embedding=embedding,\n",
    "        config=settings\n",
    "    )\n",
    "finally:\n",
    "    count = count_lines_in_myscale(myscale)\n",
    "    print(f\"Nombre de lignes finales dans la table: {count}\")"
   ]
  },
  {
   "cell_type": "markdown",
   "metadata": {},
   "source": [
    "Une table nommée `langchain` est ainsi créée dans le Cluster. Voilà un aperçu dans le **SQL Workspace**"
   ]
  },
  {
   "cell_type": "markdown",
   "metadata": {},
   "source": [
    "![myscale_sql_workspace.png](../../images/les_numeriques_youtube/myscale_sql_workspace.png)"
   ]
  },
  {
   "cell_type": "code",
   "execution_count": 19,
   "metadata": {
    "ExecuteTime": {
     "end_time": "2023-07-10T13:54:24.232152248Z",
     "start_time": "2023-07-10T13:54:23.568198682Z"
    }
   },
   "outputs": [
    {
     "data": {
      "text/plain": [
       "[Document(page_content=\"Comme prévu lors de sa canote de rentrée, Apple a annoncé non pas un, non pas deux, non pas trois, mais bien quatre iPhones. Pas d'iPhone mini au programme, mais ça c'était prévu. A la place on se retrouve avec un iPhone 14, un iPhone 14+, un iPhone 14 Pro et un iPhone 14 Pro Max et je vous propose qu'on décortique tout ça maintenant. On va commencer avec les deux entrées de gamme qui sont les iPhone 14 et les iPhone 14+.\", metadata={'chunk': 0, 'source': \"docs/youtube/iPhone 14 ： la gamme Pro gâtée, l'autre oubliée.m4a\"}),\n",
       " Document(page_content=\"Alors esthétiquement, il n'y a rien de nouveau par rapport aux iPhone 13 mini et aux iPhone 13 de l'année dernière. A l'intérieur, c'est quasiment la même chose, sauf que l'on retrouve la puce Apple A15 Bionic que l'on retrouvait dans les iPhone 13 Pro et 13 Pro Max en 2021. Du côté de l'iPhone 14, on garde le même gabarit qu'avec l'iPhone 13 et du côté de l'iPhone 14+, on prend le même gabarit qu'un iPhone 14 Pro Max. Effectivement, c'est le grand modèle de cette entrée de gamme cette année.\", metadata={'chunk': 0, 'source': \"docs/youtube/iPhone 14 ： la gamme Pro gâtée, l'autre oubliée.m4a\"}),\n",
       " Document(page_content=\"On a donc un écran de 6,7 pouces, mais pour le reste, c'est exactement la même fiche technique qu'un iPhone 14. La batterie a été améliorée, mais ça c'est grâce à la nouvelle puce. En photo, très peu de changements, si ce n'est qu'on récupère les capteurs qui étaient présents sur les iPhone 13 Pro pour le principal et pour l'ultra grand-angle. Le module frontal a été entièrement revu.\", metadata={'chunk': 0, 'source': \"docs/youtube/iPhone 14 ： la gamme Pro gâtée, l'autre oubliée.m4a\"}),\n",
       " Document(page_content=\"Et enfin, contrairement aux 14 Pro et 14 Pro Max, on n'a pas de nouveau design sur l'écran, ce qui fait qu'on garde encore l'encoche et qu'on n'a pas le droit au Dynamic Island, sur lequel je reviendrai tout de suite. On passe maintenant au plus gros du morceau, aux plus intéressants, qui sont les iPhone 14 et les iPhone 14 Pro Max. Alors, ils gardent le même design que l'année dernière, ils gardent la même taille d'écran que l'année dernière. On a donc 6,1 et 6,7 pouces.\", metadata={'chunk': 0, 'source': \"docs/youtube/iPhone 14 ： la gamme Pro gâtée, l'autre oubliée.m4a\"}),\n",
       " Document(page_content=\"On aura également un iPhone 13 Pro Max, qui est la plus grande des versions, mais également un iPhone 13 mini, malgré le succès mitigé de l'iPhone 12 mini l'année passée. Il se peut toutefois que l'iPhone 13 mini soit le dernier de sa génération et que l'an prochain, Apple ne reconduisent pas un iPhone 14 mini. Après le design, on peut parler de l'écran. En effet, cette année, Apple pourrait introduire sur ses iPhone 13 un écran rafraîchi à 120 Hz.\", metadata={'chunk': 0, 'source': 'docs/youtube/iPhone 13 ： dates, rumeurs, ragots....m4a'})]"
      ]
     },
     "execution_count": 19,
     "metadata": {},
     "output_type": "execute_result"
    }
   ],
   "source": [
    "myscale.similarity_search(question, k=5)"
   ]
  },
  {
   "cell_type": "code",
   "execution_count": null,
   "metadata": {},
   "outputs": [],
   "source": []
  }
 ],
 "metadata": {
  "kernelspec": {
   "display_name": "rag_env",
   "language": "python",
   "name": "rag_env"
  },
  "language_info": {
   "codemirror_mode": {
    "name": "ipython",
    "version": 3
   },
   "file_extension": ".py",
   "mimetype": "text/x-python",
   "name": "python",
   "nbconvert_exporter": "python",
   "pygments_lexer": "ipython3",
   "version": "3.10.12"
  }
 },
 "nbformat": 4,
 "nbformat_minor": 4
}
