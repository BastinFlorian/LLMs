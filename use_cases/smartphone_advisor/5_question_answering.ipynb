{
 "cells": [
  {
   "cell_type": "markdown",
   "metadata": {},
   "source": [
    "# Smartphones and Watches advisor\n",
    "In this serie of notebooks we will:\n",
    "- Load text from a Youtube video playlist\n",
    "- Split loaded text into appropriate chunks\n",
    "- Create a vector store to load chunk embeddings\n",
    "- **Create a Question Answering chatbot**:\n",
    "\n",
    "    - **with or without prompts engineering**\n",
    "    - **with different chain types**\n",
    "    - with or **without chat memory**\n",
    "\n",
    "!['Data Connection'](../../images/les_numeriques_youtube/data_connection.png)\n",
    "\n",
    "\n",
    "# Create a Question Answering chatbot\n",
    "\n",
    "Create a Question Answering chatbot:\n",
    "- With or without prompt engineering\n",
    "- With three different chain types:\n",
    "    - Map Reduce\n",
    "    - Refine\n",
    "    - Map rerank\n"
   ]
  },
  {
   "attachments": {},
   "cell_type": "markdown",
   "metadata": {},
   "source": [
    "!['Question Aswnering Process'](../../images/les_numeriques_youtube/question_answering.png)"
   ]
  },
  {
   "cell_type": "code",
   "execution_count": 1,
   "metadata": {},
   "outputs": [],
   "source": [
    "# Imports \n",
    "# Env var\n",
    "import os \n",
    "import sys\n",
    "from dotenv import load_dotenv, find_dotenv\n",
    "\n",
    "# Langchain\n",
    "import openai\n",
    "from langchain.llms import OpenAI\n",
    "from langchain.vectorstores import Chroma\n",
    "from langchain.embeddings.openai import OpenAIEmbeddings\n",
    "\n",
    "# SelfQuery Retriever\n",
    "from langchain.retrievers.self_query.base import SelfQueryRetriever\n",
    "from langchain.chains.query_constructor.base import AttributeInfo\n",
    "\n",
    "# Compressor\n",
    "from langchain.retrievers import ContextualCompressionRetriever\n",
    "from langchain.retrievers.document_compressors import LLMChainExtractor\n",
    "\n",
    "# QA retriever\n",
    "from langchain.chat_models import ChatOpenAI\n",
    "from langchain.chains import RetrievalQA\n",
    "\n",
    "# Prompt template\n",
    "from langchain.prompts import PromptTemplate"
   ]
  },
  {
   "cell_type": "code",
   "execution_count": 2,
   "metadata": {},
   "outputs": [],
   "source": [
    "# Env variable\n",
    "sys.path.append('../..')\n",
    "_ = load_dotenv(find_dotenv())"
   ]
  },
  {
   "cell_type": "code",
   "execution_count": 3,
   "metadata": {},
   "outputs": [
    {
     "name": "stdout",
     "output_type": "stream",
     "text": [
      "815\n"
     ]
    }
   ],
   "source": [
    "# Load vector db\n",
    "persist_directory = 'docs/chroma/'\n",
    "\n",
    "embedding = OpenAIEmbeddings()\n",
    "vectordb = Chroma(\n",
    "    persist_directory=persist_directory,\n",
    "    embedding_function=embedding\n",
    ")\n",
    "\n",
    "print(vectordb._collection.count())"
   ]
  },
  {
   "cell_type": "code",
   "execution_count": 4,
   "metadata": {},
   "outputs": [],
   "source": [
    "question = \"Quelles sont les caractéristiques de l'iphone 14 ? \""
   ]
  },
  {
   "cell_type": "code",
   "execution_count": 5,
   "metadata": {},
   "outputs": [
    {
     "data": {
      "text/plain": [
       "[Document(page_content=\"Comme prévu lors de sa canote de rentrée, Apple a annoncé non pas un, non pas deux, non pas trois, mais bien quatre iPhones. Pas d'iPhone mini au programme, mais ça c'était prévu. A la place on se retrouve avec un iPhone 14, un iPhone 14+, un iPhone 14 Pro et un iPhone 14 Pro Max et je vous propose qu'on décortique tout ça maintenant. On va commencer avec les deux entrées de gamme qui sont les iPhone 14 et les iPhone 14+.\", metadata={'source': \"docs/youtube/iPhone 14 ： la gamme Pro gâtée, l'autre oubliée.m4a\", 'chunk': 0}),\n",
       " Document(page_content=\"Alors esthétiquement, il n'y a rien de nouveau par rapport aux iPhone 13 mini et aux iPhone 13 de l'année dernière. A l'intérieur, c'est quasiment la même chose, sauf que l'on retrouve la puce Apple A15 Bionic que l'on retrouvait dans les iPhone 13 Pro et 13 Pro Max en 2021. Du côté de l'iPhone 14, on garde le même gabarit qu'avec l'iPhone 13 et du côté de l'iPhone 14+, on prend le même gabarit qu'un iPhone 14 Pro Max. Effectivement, c'est le grand modèle de cette entrée de gamme cette année.\", metadata={'source': \"docs/youtube/iPhone 14 ： la gamme Pro gâtée, l'autre oubliée.m4a\", 'chunk': 0}),\n",
       " Document(page_content=\"On a donc un écran de 6,7 pouces, mais pour le reste, c'est exactement la même fiche technique qu'un iPhone 14. La batterie a été améliorée, mais ça c'est grâce à la nouvelle puce. En photo, très peu de changements, si ce n'est qu'on récupère les capteurs qui étaient présents sur les iPhone 13 Pro pour le principal et pour l'ultra grand-angle. Le module frontal a été entièrement revu.\", metadata={'source': \"docs/youtube/iPhone 14 ： la gamme Pro gâtée, l'autre oubliée.m4a\", 'chunk': 0}),\n",
       " Document(page_content=\"Et enfin, contrairement aux 14 Pro et 14 Pro Max, on n'a pas de nouveau design sur l'écran, ce qui fait qu'on garde encore l'encoche et qu'on n'a pas le droit au Dynamic Island, sur lequel je reviendrai tout de suite. On passe maintenant au plus gros du morceau, aux plus intéressants, qui sont les iPhone 14 et les iPhone 14 Pro Max. Alors, ils gardent le même design que l'année dernière, ils gardent la même taille d'écran que l'année dernière. On a donc 6,1 et 6,7 pouces.\", metadata={'source': \"docs/youtube/iPhone 14 ： la gamme Pro gâtée, l'autre oubliée.m4a\", 'chunk': 0}),\n",
       " Document(page_content=\"Bonjour à tous et bienvenue sur Les Numériques. Alors, comme chaque année, le mois de septembre, c'est réservé aux iPhones. Et 2022, évidemment, ne déroge pas la règle. Cette année, on aura vu débarquer la série 14 avec les iPhones 14 et les iPhones 14 Pro. Alors, dans cette vidéo aujourd'hui, on va plutôt s'intéresser aux versions Pro. On reviendra évidemment sur les 14 classiques lors de la sortie de la variante Plus de cet octobre. Mais bref, trêve de bavardage.\", metadata={'source': 'docs/youtube/[TEST] iPhone 14 Pro et Pro Max ： la maturité avant les changements ？.m4a', 'chunk': 0})]"
      ]
     },
     "execution_count": 5,
     "metadata": {},
     "output_type": "execute_result"
    }
   ],
   "source": [
    "docs = vectordb.similarity_search(question, k=5)\n",
    "docs[:5]"
   ]
  },
  {
   "cell_type": "markdown",
   "metadata": {},
   "source": [
    "### Without prompt engineering\n"
   ]
  },
  {
   "cell_type": "code",
   "execution_count": 6,
   "metadata": {},
   "outputs": [],
   "source": [
    "llm = OpenAI(temperature=0)\n",
    "qa_chain = RetrievalQA.from_chain_type(\n",
    "    llm,\n",
    "    retriever=vectordb.as_retriever(),\n",
    ")"
   ]
  },
  {
   "cell_type": "code",
   "execution_count": 7,
   "metadata": {},
   "outputs": [
    {
     "data": {
      "text/plain": [
       "\" L'iPhone 14 a un écran de 6,1 pouces, un gabarit similaire à l'iPhone 13, une puce Apple A15 Bionic, une batterie améliorée, des capteurs photo similaires à ceux de l'iPhone 13 Pro et un module frontal entièrement revu. Il n'a pas de nouveau design sur l'écran et n'a pas le droit au Dynamic Island.\""
      ]
     },
     "execution_count": 7,
     "metadata": {},
     "output_type": "execute_result"
    }
   ],
   "source": [
    "question = \"Quelles sont les caractéristiques de l'iPhone 14 ?\"\n",
    "result = qa_chain({\"query\": question})\n",
    "result[\"result\"]"
   ]
  },
  {
   "cell_type": "markdown",
   "metadata": {},
   "source": [
    "### With prompt engineering"
   ]
  },
  {
   "cell_type": "code",
   "execution_count": 8,
   "metadata": {},
   "outputs": [],
   "source": [
    "# Build prompt\n",
    "template = \"\"\"\n",
    "Use the following pieces of context to answer the question at the end. \n",
    "If you don't know the answer, just say that you don't know, don't try to make up an answer. \n",
    "\n",
    "Keep the answer as concise as possible. \n",
    "You can answer with bullet point as well.\n",
    "\n",
    "Always say \"Merci pour cette question!\" at the end of the answer. \n",
    "\n",
    "\n",
    "CONTEXT: {context}\n",
    "-------\n",
    "Human: {question}\n",
    "Assistant:\n",
    "\n",
    "\"\"\"\n",
    "\n",
    "QA_CHAIN_PROMPT = PromptTemplate(input_variables=[\"context\", \"question\"], template=template)"
   ]
  },
  {
   "cell_type": "code",
   "execution_count": 9,
   "metadata": {},
   "outputs": [],
   "source": [
    "# Run chain\n",
    "qa_chain = RetrievalQA.from_chain_type(\n",
    "    llm,\n",
    "    retriever=vectordb.as_retriever(),\n",
    "    return_source_documents=True,\n",
    "    chain_type_kwargs={\"prompt\": QA_CHAIN_PROMPT} # Add a prompt\n",
    ")"
   ]
  },
  {
   "cell_type": "code",
   "execution_count": 10,
   "metadata": {},
   "outputs": [],
   "source": [
    "question = \"Quelles sont les caractéristiques de l'iPhone 14 ?\"\n",
    "result = qa_chain({\"query\": question})"
   ]
  },
  {
   "cell_type": "code",
   "execution_count": 11,
   "metadata": {},
   "outputs": [
    {
     "name": "stdout",
     "output_type": "stream",
     "text": [
      "Les caractéristiques de l'iPhone 14 sont: \n",
      "- Écran de 6,1 pouces \n",
      "- Puce Apple A15 Bionic \n",
      "- Batterie améliorée \n",
      "- Capteurs photo du iPhone 13 Pro pour le principal et l'ultra grand-angle \n",
      "- Module frontal entièrement revu \n",
      "- Encoche \n",
      "- Pas de Dynamic Island \n",
      "Merci pour cette question!\n"
     ]
    }
   ],
   "source": [
    "print(result[\"result\"])"
   ]
  },
  {
   "attachments": {},
   "cell_type": "markdown",
   "metadata": {},
   "source": [
    "## Question answering chain type\n",
    "- Map Reduce\n",
    "- Refine\n",
    "- Map rerank"
   ]
  },
  {
   "attachments": {},
   "cell_type": "markdown",
   "metadata": {},
   "source": [
    "### Lang Chain platform"
   ]
  },
  {
   "attachments": {},
   "cell_type": "markdown",
   "metadata": {},
   "source": [
    "- Go to https://smith.langchain.com/\n",
    "- Setting > Create API key > Copy and past it in your.env file "
   ]
  },
  {
   "cell_type": "code",
   "execution_count": 12,
   "metadata": {},
   "outputs": [],
   "source": [
    "import os\n",
    "os.environ[\"LANGCHAIN_TRACING_V2\"] = \"true\"\n",
    "os.environ[\"LANGCHAIN_ENDPOINT\"] = \"https://api.langchain.plus\"\n",
    "# os.environ[\"LANGCHAIN_API_KEY\"] = \"[YOUR_API_KEY]\"\n",
    "# Go to https://smith.langchain.com/\n",
    "# Setting > Create API key > Copy and past it in your.env file \n",
    "\n",
    "_ = load_dotenv(find_dotenv()) # read local .env file\n"
   ]
  },
  {
   "attachments": {},
   "cell_type": "markdown",
   "metadata": {},
   "source": [
    "### Map reduce"
   ]
  },
  {
   "attachments": {},
   "cell_type": "markdown",
   "metadata": {},
   "source": [
    "![''Map Reduce'](../../images/les_numeriques_youtube/map_reduce.png)\n"
   ]
  },
  {
   "cell_type": "code",
   "execution_count": 13,
   "metadata": {},
   "outputs": [
    {
     "data": {
      "text/plain": [
       "' The iPhone 14 features a 6.1 inch screen, the same design as the iPhone 13, improved battery, and the same photo sensors as the iPhone 13 Pro for the main and ultra-wide angle. The front module has been completely redesigned. The iPhone 14+ features a 6.7 inch screen, the same design as the iPhone 13, improved battery, and the same photo sensors as the iPhone 13 Pro for the main and ultra-wide angle. The front module has been completely redesigned.'"
      ]
     },
     "execution_count": 13,
     "metadata": {},
     "output_type": "execute_result"
    }
   ],
   "source": [
    "qa_chain_mr = RetrievalQA.from_chain_type(\n",
    "    llm,\n",
    "    retriever=vectordb.as_retriever(),\n",
    "    chain_type=\"map_reduce\"\n",
    ")\n",
    "\n",
    "question = \"Quelles sont les caractéristiques de l'iPhone 14 ?\"\n",
    "result = qa_chain_mr({\"query\": question})\n",
    "result[\"result\"]"
   ]
  },
  {
   "attachments": {},
   "cell_type": "markdown",
   "metadata": {},
   "source": [
    "- It is a lot slower\n",
    "- The results are worst\n",
    "\n",
    "Why ?\n",
    "- The answers are first based on each document independantly \n",
    "- Dependent chunks are not joined before final answer, only intermediate answers\n"
   ]
  },
  {
   "attachments": {},
   "cell_type": "markdown",
   "metadata": {},
   "source": [
    "## Refine method\n"
   ]
  },
  {
   "attachments": {},
   "cell_type": "markdown",
   "metadata": {},
   "source": [
    "!['Refine'](../../images/les_numeriques_youtube/refine.png)\n"
   ]
  },
  {
   "cell_type": "code",
   "execution_count": 14,
   "metadata": {},
   "outputs": [
    {
     "name": "stdout",
     "output_type": "stream",
     "text": [
      "\n",
      "\n",
      "L'iPhone 14 est doté d'un écran LCD de 6,1 pouces, d'un processeur A15 Bionic, d'un double appareil photo arrière de 12 mégapixels et d'une batterie de 2 815 mAh. Il est disponible en 64, 128 et 256 Go de stockage et est disponible en six couleurs différentes. Il a le même gabarit que l'iPhone 13 et l'iPhone 14+ a le même gabarit qu'un iPhone 14 Pro Max. De plus, l'iPhone 14+ est doté d'un écran de 6,7 pouces, et la batterie a été améliorée grâce à la nouvelle puce. En photo, les capteurs qui étaient présents sur les iPhone 13 Pro sont présents sur le principal et l'ultra grand-angle. Le module frontal a également été entièrement revu. Contrairement aux 14 Pro et 14 Pro Max, l'iPhone 14 n'a pas de n\n"
     ]
    }
   ],
   "source": [
    "qa_chain_mr = RetrievalQA.from_chain_type(\n",
    "    llm,\n",
    "    retriever=vectordb.as_retriever(),\n",
    "    chain_type=\"refine\"\n",
    ")\n",
    "\n",
    "question = \"Quelles sont les caractéristiques de l'iPhone 14 ?\"\n",
    "result = qa_chain_mr({\"query\": question})\n",
    "print(result[\"result\"])"
   ]
  },
  {
   "attachments": {},
   "cell_type": "markdown",
   "metadata": {},
   "source": [
    "## Rerank method\n"
   ]
  },
  {
   "attachments": {},
   "cell_type": "markdown",
   "metadata": {},
   "source": [
    "!['Map Rerank'](../../images/les_numeriques_youtube/map_rerank.png)\n"
   ]
  },
  {
   "cell_type": "code",
   "execution_count": 15,
   "metadata": {},
   "outputs": [
    {
     "name": "stderr",
     "output_type": "stream",
     "text": [
      "/Users/florian.bastin/Documents/Code/Octo/GenAI/langchain_discovery/.venv/lib/python3.10/site-packages/langchain/chains/llm.py:303: UserWarning: The apply_and_parse method is deprecated, instead pass an output parser directly to LLMChain.\n",
      "  warnings.warn(\n"
     ]
    },
    {
     "name": "stdout",
     "output_type": "stream",
     "text": [
      " L'iPhone 14 est l'entrée de gamme de la gamme d'iPhone 14. Il est doté d'un écran LCD de 6,1 pouces, d'un processeur A14 Bionic, d'un double capteur photo arrière de 12 mégapixels et d'une batterie de 2 815 mAh.\n"
     ]
    }
   ],
   "source": [
    "qa_chain_mr = RetrievalQA.from_chain_type(\n",
    "    llm,\n",
    "    retriever=vectordb.as_retriever(),\n",
    "    chain_type=\"map_rerank\"\n",
    ")\n",
    "\n",
    "question = \"Quelles sont les caractéristiques de l'iPhone 14 ?\"\n",
    "result = qa_chain_mr({\"query\": question})\n",
    "print(result[\"result\"])"
   ]
  },
  {
   "cell_type": "markdown",
   "metadata": {},
   "source": [
    "### RetrievalQA limitations\n",
    " \n",
    "QA fails to preserve conversational history."
   ]
  },
  {
   "cell_type": "code",
   "execution_count": 16,
   "metadata": {},
   "outputs": [
    {
     "name": "stdout",
     "output_type": "stream",
     "text": [
      " Tu as présenté un iPhone 13 Product Red, un iPhone 13 bleu et un iPhone 13 Pro.\n"
     ]
    }
   ],
   "source": [
    "question = 'Quel iPhone viens-tu de me présenter cher LLM ?'\n",
    "\n",
    "result = qa_chain_mr({\"query\": question})\n",
    "print(result[\"result\"])"
   ]
  },
  {
   "cell_type": "code",
   "execution_count": null,
   "metadata": {},
   "outputs": [],
   "source": []
  }
 ],
 "metadata": {
  "kernelspec": {
   "display_name": "rag_env",
   "language": "python",
   "name": "rag_env"
  },
  "language_info": {
   "codemirror_mode": {
    "name": "ipython",
    "version": 3
   },
   "file_extension": ".py",
   "mimetype": "text/x-python",
   "name": "python",
   "nbconvert_exporter": "python",
   "pygments_lexer": "ipython3",
   "version": "3.10.12"
  }
 },
 "nbformat": 4,
 "nbformat_minor": 4
}
