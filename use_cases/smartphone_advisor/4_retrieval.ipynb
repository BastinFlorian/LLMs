{
 "cells": [
  {
   "cell_type": "markdown",
   "metadata": {},
   "source": [
    "# Smartphones and Watches advisor\n",
    "In this serie of notebooks we will:\n",
    "- Load text from a Youtube video playlist\n",
    "- Split loaded text into appropriate chunks\n",
    "- **Create a vector store to load chunk embeddings**\n",
    "- Create a Question Answering chatbot:\n",
    "\n",
    "    - with different prompts techniques\n",
    "    - with different similarity measures\n",
    "    - with or without chat memory \n",
    "\n",
    "!['Data Connection'](../../images/les_numeriques_youtube/data_connection.png)\n",
    "\n",
    "\n",
    "# Create a vector store to load chunk embeddings\n",
    "\n",
    "We will do the following steps:\n",
    "- Retrieve the chunks by metadata\n",
    "- Apply a **compression** method to increase chunk quality"
   ]
  },
  {
   "cell_type": "code",
   "execution_count": 1,
   "metadata": {
    "ExecuteTime": {
     "end_time": "2023-07-10T14:07:19.411260904Z",
     "start_time": "2023-07-10T14:07:19.349934249Z"
    }
   },
   "outputs": [],
   "source": [
    "# Imports \n",
    "# Env var\n",
    "import sys\n",
    "from dotenv import load_dotenv, find_dotenv\n",
    "\n",
    "# Langchain\n",
    "from langchain.llms import OpenAI\n",
    "from langchain.vectorstores import Chroma, MyScale, MyScaleSettings\n",
    "from langchain.embeddings.openai import OpenAIEmbeddings\n",
    "\n",
    "# SelfQuery Retriever\n",
    "from langchain.retrievers.self_query.base import SelfQueryRetriever\n",
    "from langchain.chains.query_constructor.base import AttributeInfo\n",
    "\n",
    "# Compressor\n",
    "from langchain.retrievers import ContextualCompressionRetriever\n",
    "from langchain.retrievers.document_compressors import LLMChainExtractor\n",
    "\n",
    "# Utils\n",
    "from utils import count_lines_in_myscale"
   ]
  },
  {
   "cell_type": "code",
   "execution_count": 2,
   "metadata": {
    "ExecuteTime": {
     "end_time": "2023-07-10T14:07:22.458316887Z",
     "start_time": "2023-07-10T14:07:22.435903911Z"
    }
   },
   "outputs": [
    {
     "data": {
      "text/plain": [
       "True"
      ]
     },
     "execution_count": 2,
     "metadata": {},
     "output_type": "execute_result"
    }
   ],
   "source": [
    "# Env variable\n",
    "sys.path.append('../..')\n",
    "load_dotenv(find_dotenv())"
   ]
  },
  {
   "cell_type": "code",
   "execution_count": 3,
   "metadata": {
    "ExecuteTime": {
     "end_time": "2023-07-10T14:07:24.037050506Z",
     "start_time": "2023-07-10T14:07:23.929909764Z"
    }
   },
   "outputs": [
    {
     "name": "stdout",
     "output_type": "stream",
     "text": [
      "815\n"
     ]
    }
   ],
   "source": [
    "# Load vector db\n",
    "persist_directory = 'docs/chroma/'\n",
    "\n",
    "embedding = OpenAIEmbeddings()\n",
    "vectordb = Chroma(\n",
    "    persist_directory=persist_directory,\n",
    "    embedding_function=embedding\n",
    ")\n",
    "\n",
    "print(vectordb._collection.count())"
   ]
  },
  {
   "cell_type": "code",
   "execution_count": 4,
   "metadata": {
    "ExecuteTime": {
     "end_time": "2023-07-10T14:07:27.610758536Z",
     "start_time": "2023-07-10T14:07:27.598404871Z"
    }
   },
   "outputs": [],
   "source": [
    "question = \"\"\"Quelles sont les caractéristiques de l'iphone 14 ?\"\"\""
   ]
  },
  {
   "cell_type": "code",
   "execution_count": 5,
   "metadata": {
    "ExecuteTime": {
     "end_time": "2023-07-10T14:07:28.485898140Z",
     "start_time": "2023-07-10T14:07:28.042269835Z"
    }
   },
   "outputs": [
    {
     "data": {
      "text/plain": [
       "[Document(page_content=\"Comme prévu lors de sa canote de rentrée, Apple a annoncé non pas un, non pas deux, non pas trois, mais bien quatre iPhones. Pas d'iPhone mini au programme, mais ça c'était prévu. A la place on se retrouve avec un iPhone 14, un iPhone 14+, un iPhone 14 Pro et un iPhone 14 Pro Max et je vous propose qu'on décortique tout ça maintenant. On va commencer avec les deux entrées de gamme qui sont les iPhone 14 et les iPhone 14+.\", metadata={'source': \"docs/youtube/iPhone 14 ： la gamme Pro gâtée, l'autre oubliée.m4a\", 'chunk': 0}),\n",
       " Document(page_content=\"Alors esthétiquement, il n'y a rien de nouveau par rapport aux iPhone 13 mini et aux iPhone 13 de l'année dernière. A l'intérieur, c'est quasiment la même chose, sauf que l'on retrouve la puce Apple A15 Bionic que l'on retrouvait dans les iPhone 13 Pro et 13 Pro Max en 2021. Du côté de l'iPhone 14, on garde le même gabarit qu'avec l'iPhone 13 et du côté de l'iPhone 14+, on prend le même gabarit qu'un iPhone 14 Pro Max. Effectivement, c'est le grand modèle de cette entrée de gamme cette année.\", metadata={'source': \"docs/youtube/iPhone 14 ： la gamme Pro gâtée, l'autre oubliée.m4a\", 'chunk': 0}),\n",
       " Document(page_content=\"On a donc un écran de 6,7 pouces, mais pour le reste, c'est exactement la même fiche technique qu'un iPhone 14. La batterie a été améliorée, mais ça c'est grâce à la nouvelle puce. En photo, très peu de changements, si ce n'est qu'on récupère les capteurs qui étaient présents sur les iPhone 13 Pro pour le principal et pour l'ultra grand-angle. Le module frontal a été entièrement revu.\", metadata={'source': \"docs/youtube/iPhone 14 ： la gamme Pro gâtée, l'autre oubliée.m4a\", 'chunk': 0}),\n",
       " Document(page_content=\"Et enfin, contrairement aux 14 Pro et 14 Pro Max, on n'a pas de nouveau design sur l'écran, ce qui fait qu'on garde encore l'encoche et qu'on n'a pas le droit au Dynamic Island, sur lequel je reviendrai tout de suite. On passe maintenant au plus gros du morceau, aux plus intéressants, qui sont les iPhone 14 et les iPhone 14 Pro Max. Alors, ils gardent le même design que l'année dernière, ils gardent la même taille d'écran que l'année dernière. On a donc 6,1 et 6,7 pouces.\", metadata={'source': \"docs/youtube/iPhone 14 ： la gamme Pro gâtée, l'autre oubliée.m4a\", 'chunk': 0}),\n",
       " Document(page_content=\"On aura également un iPhone 13 Pro Max, qui est la plus grande des versions, mais également un iPhone 13 mini, malgré le succès mitigé de l'iPhone 12 mini l'année passée. Il se peut toutefois que l'iPhone 13 mini soit le dernier de sa génération et que l'an prochain, Apple ne reconduisent pas un iPhone 14 mini. Après le design, on peut parler de l'écran. En effet, cette année, Apple pourrait introduire sur ses iPhone 13 un écran rafraîchi à 120 Hz.\", metadata={'source': 'docs/youtube/iPhone 13 ： dates, rumeurs, ragots....m4a', 'chunk': 0})]"
      ]
     },
     "execution_count": 5,
     "metadata": {},
     "output_type": "execute_result"
    }
   ],
   "source": [
    "res = vectordb.similarity_search(\n",
    "    question,\n",
    "    k=10\n",
    ")\n",
    "\n",
    "res[:5]"
   ]
  },
  {
   "cell_type": "code",
   "execution_count": 6,
   "metadata": {},
   "outputs": [
    {
     "name": "stdout",
     "output_type": "stream",
     "text": [
      "docs/youtube/iPhone 14 ： la gamme Pro gâtée, l'autre oubliée.m4a\n",
      "docs/youtube/iPhone 14 ： la gamme Pro gâtée, l'autre oubliée.m4a\n",
      "docs/youtube/iPhone 14 ： la gamme Pro gâtée, l'autre oubliée.m4a\n",
      "docs/youtube/iPhone 14 ： la gamme Pro gâtée, l'autre oubliée.m4a\n",
      "docs/youtube/iPhone 13 ： dates, rumeurs, ragots....m4a\n"
     ]
    }
   ],
   "source": [
    "print((\"\\n\").join([doc.metadata[\"source\"] for doc in res[:5]]))"
   ]
  },
  {
   "cell_type": "markdown",
   "metadata": {},
   "source": [
    "Let's look at the video title of the retrieved chunks\n"
   ]
  },
  {
   "cell_type": "markdown",
   "metadata": {},
   "source": [
    "### Self querying retriever\n",
    "\n",
    "A self-querying retriever is one that, as the name suggests, has the ability to query itself. Specifically, given any natural language query, the retriever uses a query-constructing LLM chain to write a structured query and then applies that structured query to it's underlying VectorStore. \n",
    "\n",
    "This allows the retriever to not only use the user-input query for semantic similarity comparison with the contents of stored documented, but to **also extract filters from the user query on the metadata of stored documents** and to execute those filters.\n",
    "\n",
    "\n",
    "![Self Querying.png](../../images/les_numeriques_youtube/self_querying.png)"
   ]
  },
  {
   "cell_type": "code",
   "execution_count": 7,
   "metadata": {
    "ExecuteTime": {
     "end_time": "2023-07-10T14:07:33.964912979Z",
     "start_time": "2023-07-10T14:07:33.942246163Z"
    }
   },
   "outputs": [],
   "source": [
    "# Metadata informations\n",
    "metadata_field_info = [\n",
    "    AttributeInfo(\n",
    "        name=\"source\",\n",
    "        description=\"The title the chunk is from. The title starts with the product name\",\n",
    "        type=\"string\"\n",
    "    ),\n",
    "    AttributeInfo(\n",
    "        name=\"chunk\",\n",
    "        description=\"The chunk number\",\n",
    "        type=\"integer\"\n",
    "    ),\n",
    "]"
   ]
  },
  {
   "cell_type": "markdown",
   "metadata": {},
   "source": [
    "### Self-Querying avec Chroma"
   ]
  },
  {
   "cell_type": "code",
   "execution_count": 8,
   "metadata": {
    "ExecuteTime": {
     "end_time": "2023-07-10T14:07:45.818919818Z",
     "start_time": "2023-07-10T14:07:45.769657178Z"
    }
   },
   "outputs": [],
   "source": [
    "document_content_description = \"Technology product information\"\n",
    "llm = OpenAI(temperature=0)\n",
    "\n",
    "retriever = SelfQueryRetriever.from_llm(\n",
    "    llm,\n",
    "    vectordb,\n",
    "    document_content_description,\n",
    "    metadata_field_info,\n",
    "    verbose=True\n",
    ")"
   ]
  },
  {
   "cell_type": "code",
   "execution_count": 9,
   "metadata": {
    "ExecuteTime": {
     "end_time": "2023-07-10T14:07:46.911900610Z",
     "start_time": "2023-07-10T14:07:46.896300934Z"
    }
   },
   "outputs": [],
   "source": [
    "question = \"\"\"Quelles sont les caractéristiques de l'iphone 14 ?\"\"\""
   ]
  },
  {
   "cell_type": "code",
   "execution_count": 10,
   "metadata": {
    "ExecuteTime": {
     "end_time": "2023-07-10T14:07:49.026421655Z",
     "start_time": "2023-07-10T14:07:47.551109389Z"
    }
   },
   "outputs": [
    {
     "name": "stderr",
     "output_type": "stream",
     "text": [
      "/Users/florian.bastin/Documents/Code/Octo/GenAI/langchain_discovery/.venv/lib/python3.10/site-packages/langchain/chains/llm.py:275: UserWarning: The predict_and_parse method is deprecated, instead pass an output parser directly to LLMChain.\n",
      "  warnings.warn(\n"
     ]
    },
    {
     "name": "stdout",
     "output_type": "stream",
     "text": [
      "query='iphone 14' filter=Comparison(comparator=<Comparator.EQ: 'eq'>, attribute='source', value='iphone 14') limit=None\n"
     ]
    },
    {
     "data": {
      "text/plain": [
       "[]"
      ]
     },
     "execution_count": 10,
     "metadata": {},
     "output_type": "execute_result"
    }
   ],
   "source": [
    "# A filter is applied on the name of the Youtube Video to retrieve only chunks corresponding to iPhone 14 videos\n",
    "res = retriever.get_relevant_documents(question)\n",
    "res"
   ]
  },
  {
   "cell_type": "markdown",
   "metadata": {},
   "source": [
    "[Liste des comparateurs possible de Comparator]('https://api.python.langchain.com/en/latest/chains/langchain.chains.query_constructor.ir.Comparator.html')"
   ]
  },
  {
   "cell_type": "code",
   "execution_count": 11,
   "metadata": {
    "ExecuteTime": {
     "end_time": "2023-07-10T14:07:50.457614743Z",
     "start_time": "2023-07-10T14:07:50.446650627Z"
    }
   },
   "outputs": [
    {
     "data": {
      "text/plain": [
       "[]"
      ]
     },
     "execution_count": 11,
     "metadata": {},
     "output_type": "execute_result"
    }
   ],
   "source": [
    "[chunk.metadata['source'] for chunk in res]"
   ]
  },
  {
   "cell_type": "markdown",
   "metadata": {},
   "source": [
    "### Self-Querying avec MyScale"
   ]
  },
  {
   "cell_type": "code",
   "execution_count": 12,
   "metadata": {
    "ExecuteTime": {
     "end_time": "2023-07-10T14:09:29.615008092Z",
     "start_time": "2023-07-10T14:09:28.517052511Z"
    }
   },
   "outputs": [
    {
     "name": "stdout",
     "output_type": "stream",
     "text": [
      "Number of lines in MyScale: 815\n"
     ]
    }
   ],
   "source": [
    "# Instantiate MyScale DB (which is an online vector DB)\n",
    "myscale = MyScale(embedding=embedding, config=MyScaleSettings(_env_file=find_dotenv()))\n",
    "\n",
    "print(f\"Number of lines in MyScale: {count_lines_in_myscale(myscale)}\")"
   ]
  },
  {
   "cell_type": "code",
   "execution_count": 13,
   "metadata": {
    "ExecuteTime": {
     "end_time": "2023-07-10T14:11:03.342984914Z",
     "start_time": "2023-07-10T14:11:03.281199409Z"
    }
   },
   "outputs": [],
   "source": [
    "myscale_self_query_retriever = SelfQueryRetriever.from_llm(\n",
    "    llm=llm,\n",
    "    document_contents=document_content_description,\n",
    "    metadata_field_info=metadata_field_info,\n",
    "    vectorstore=myscale,\n",
    "    verbose=True\n",
    ")"
   ]
  },
  {
   "cell_type": "code",
   "execution_count": 14,
   "metadata": {
    "ExecuteTime": {
     "end_time": "2023-07-10T14:12:36.794002603Z",
     "start_time": "2023-07-10T14:12:33.433211695Z"
    }
   },
   "outputs": [
    {
     "name": "stderr",
     "output_type": "stream",
     "text": [
      "/Users/florian.bastin/Documents/Code/Octo/GenAI/langchain_discovery/.venv/lib/python3.10/site-packages/langchain/chains/llm.py:275: UserWarning: The predict_and_parse method is deprecated, instead pass an output parser directly to LLMChain.\n",
      "  warnings.warn(\n"
     ]
    },
    {
     "name": "stdout",
     "output_type": "stream",
     "text": [
      "query='iphone 14' filter=Comparison(comparator=<Comparator.LIKE: 'like'>, attribute='source', value='iphone 14') limit=None\n",
      "query='iphone 14' filter=Comparison(comparator=<Comparator.LIKE: 'like'>, attribute='source', value='iphone 14') limit=None\n"
     ]
    }
   ],
   "source": [
    "myscale_res = myscale_self_query_retriever.get_relevant_documents(question)"
   ]
  },
  {
   "cell_type": "code",
   "execution_count": 15,
   "metadata": {
    "ExecuteTime": {
     "end_time": "2023-07-10T14:12:43.374931167Z",
     "start_time": "2023-07-10T14:12:43.310649230Z"
    }
   },
   "outputs": [
    {
     "data": {
      "text/plain": [
       "[Document(page_content=\"Comme prévu lors de sa canote de rentrée, Apple a annoncé non pas un, non pas deux, non pas trois, mais bien quatre iPhones. Pas d'iPhone mini au programme, mais ça c'était prévu. A la place on se retrouve avec un iPhone 14, un iPhone 14+, un iPhone 14 Pro et un iPhone 14 Pro Max et je vous propose qu'on décortique tout ça maintenant. On va commencer avec les deux entrées de gamme qui sont les iPhone 14 et les iPhone 14+.\", metadata={'chunk': 0, 'source': \"docs/youtube/iPhone 14 ： la gamme Pro gâtée, l'autre oubliée.m4a\"}),\n",
       " Document(page_content=\"Alors esthétiquement, il n'y a rien de nouveau par rapport aux iPhone 13 mini et aux iPhone 13 de l'année dernière. A l'intérieur, c'est quasiment la même chose, sauf que l'on retrouve la puce Apple A15 Bionic que l'on retrouvait dans les iPhone 13 Pro et 13 Pro Max en 2021. Du côté de l'iPhone 14, on garde le même gabarit qu'avec l'iPhone 13 et du côté de l'iPhone 14+, on prend le même gabarit qu'un iPhone 14 Pro Max. Effectivement, c'est le grand modèle de cette entrée de gamme cette année.\", metadata={'chunk': 0, 'source': \"docs/youtube/iPhone 14 ： la gamme Pro gâtée, l'autre oubliée.m4a\"}),\n",
       " Document(page_content=\"Bonjour à tous et bienvenue sur Les Numériques. Alors, comme chaque année, le mois de septembre, c'est réservé aux iPhones. Et 2022, évidemment, ne déroge pas la règle. Cette année, on aura vu débarquer la série 14 avec les iPhones 14 et les iPhones 14 Pro. Alors, dans cette vidéo aujourd'hui, on va plutôt s'intéresser aux versions Pro. On reviendra évidemment sur les 14 classiques lors de la sortie de la variante Plus de cet octobre. Mais bref, trêve de bavardage.\", metadata={'chunk': 0, 'source': 'docs/youtube/[TEST] iPhone 14 Pro et Pro Max ： la maturité avant les changements ？.m4a'}),\n",
       " Document(page_content=\"Et enfin, contrairement aux 14 Pro et 14 Pro Max, on n'a pas de nouveau design sur l'écran, ce qui fait qu'on garde encore l'encoche et qu'on n'a pas le droit au Dynamic Island, sur lequel je reviendrai tout de suite. On passe maintenant au plus gros du morceau, aux plus intéressants, qui sont les iPhone 14 et les iPhone 14 Pro Max. Alors, ils gardent le même design que l'année dernière, ils gardent la même taille d'écran que l'année dernière. On a donc 6,1 et 6,7 pouces.\", metadata={'chunk': 0, 'source': \"docs/youtube/iPhone 14 ： la gamme Pro gâtée, l'autre oubliée.m4a\"})]"
      ]
     },
     "execution_count": 15,
     "metadata": {},
     "output_type": "execute_result"
    }
   ],
   "source": [
    "myscale_res"
   ]
  },
  {
   "cell_type": "code",
   "execution_count": 16,
   "metadata": {
    "ExecuteTime": {
     "end_time": "2023-07-10T14:13:24.092837715Z",
     "start_time": "2023-07-10T14:13:24.089952449Z"
    }
   },
   "outputs": [
    {
     "data": {
      "text/plain": [
       "[\"docs/youtube/iPhone 14 ： la gamme Pro gâtée, l'autre oubliée.m4a\",\n",
       " \"docs/youtube/iPhone 14 ： la gamme Pro gâtée, l'autre oubliée.m4a\",\n",
       " 'docs/youtube/[TEST] iPhone 14 Pro et Pro Max ： la maturité avant les changements ？.m4a',\n",
       " \"docs/youtube/iPhone 14 ： la gamme Pro gâtée, l'autre oubliée.m4a\"]"
      ]
     },
     "execution_count": 16,
     "metadata": {},
     "output_type": "execute_result"
    }
   ],
   "source": [
    "[chunk.metadata[\"source\"] for chunk in myscale_res]"
   ]
  },
  {
   "cell_type": "markdown",
   "metadata": {},
   "source": [
    "## Contextual Compression\n",
    "[LangChain doc](https://python.langchain.com/docs/modules/data_connection/retrievers/how_to/contextual_compression/) \n",
    "\n",
    "One challenge with retrieval is that usually you don't know the specific queries your document storage system will face when you ingest data into the system. This means that the information most relevant to a query may be buried in a document with a lot of irrelevant text. Passing that full document through your application can lead to more expensive LLM calls and poorer responses.\n",
    "\n",
    "Contextual compression is meant to fix this. \n",
    "\n",
    "The idea is simple: instead of immediately returning retrieved documents as-is, you can compress them using the context of the given query, so that only the relevant information is returned. \n",
    "\n",
    "“Compressing” here refers to both compressing the contents of an individual document and filtering out documents wholesale.\n",
    "\n",
    "To use the Contextual Compression Retriever, you'll need:\n",
    "\n",
    "- A base Retriever\n",
    "- A Document Compressor\n",
    "\n",
    "The Contextual Compression Retriever passes queries to the base Retriever, takes the initial documents and passes them through the Document Compressor. The Document Compressor takes a list of Documents and shortens it by reducing the contents of Documents or dropping Documents altogether."
   ]
  },
  {
   "cell_type": "markdown",
   "metadata": {},
   "source": [
    "!['Compression 2'](../../images/les_numeriques_youtube/compression2.png)"
   ]
  },
  {
   "cell_type": "code",
   "execution_count": 17,
   "metadata": {},
   "outputs": [],
   "source": [
    "def pretty_print_docs(docs):\n",
    "    print(f\"\\n{'-' * 100}\\n\".join([f\"Document {i+1}:\\n\\n\" + d.page_content for i, d in enumerate(docs)]))\n"
   ]
  },
  {
   "cell_type": "code",
   "execution_count": 18,
   "metadata": {},
   "outputs": [],
   "source": [
    "llm = OpenAI(temperature=0)\n",
    "compressor = LLMChainExtractor.from_llm(llm)\n",
    "\n",
    "compression_retriever = ContextualCompressionRetriever(\n",
    "    base_compressor=compressor,\n",
    "    base_retriever=vectordb.as_retriever()\n",
    ")"
   ]
  },
  {
   "cell_type": "code",
   "execution_count": 19,
   "metadata": {},
   "outputs": [
    {
     "name": "stdout",
     "output_type": "stream",
     "text": [
      "Document 1:\n",
      "\n",
      "\"Apple a annoncé non pas un, non pas deux, non pas trois, mais bien quatre iPhones. Pas d'iPhone mini au programme, mais ça c'était prévu. A la place on se retrouve avec un iPhone 14, un iPhone 14+, un iPhone 14 Pro et un iPhone 14 Pro Max\"\n",
      "----------------------------------------------------------------------------------------------------\n",
      "Document 2:\n",
      "\n",
      "puce Apple A15 Bionic, même gabarit qu'avec l'iPhone 13, même gabarit qu'un iPhone 14 Pro Max\n",
      "----------------------------------------------------------------------------------------------------\n",
      "Document 3:\n",
      "\n",
      "\"un écran de 6,7 pouces\", \"batterie a été améliorée\", \"capteurs qui étaient présents sur les iPhone 13 Pro pour le principal et pour l'ultra grand-angle\", \"module frontal a été entièrement revu\".\n",
      "----------------------------------------------------------------------------------------------------\n",
      "Document 4:\n",
      "\n",
      "\"On n'a pas de nouveau design sur l'écran, ce qui fait qu'on garde encore l'encoche\"\n"
     ]
    }
   ],
   "source": [
    "question = \"\"\"Quelles sont les caractéristiques de l'iPhone 14 ?\"\"\"\n",
    "\n",
    "compressed_docs = compression_retriever.get_relevant_documents(question)\n",
    "pretty_print_docs(compressed_docs)"
   ]
  },
  {
   "cell_type": "code",
   "execution_count": null,
   "metadata": {},
   "outputs": [],
   "source": []
  }
 ],
 "metadata": {
  "kernelspec": {
   "display_name": "rag_env",
   "language": "python",
   "name": "rag_env"
  },
  "language_info": {
   "codemirror_mode": {
    "name": "ipython",
    "version": 3
   },
   "file_extension": ".py",
   "mimetype": "text/x-python",
   "name": "python",
   "nbconvert_exporter": "python",
   "pygments_lexer": "ipython3",
   "version": "3.10.12"
  }
 },
 "nbformat": 4,
 "nbformat_minor": 4
}
