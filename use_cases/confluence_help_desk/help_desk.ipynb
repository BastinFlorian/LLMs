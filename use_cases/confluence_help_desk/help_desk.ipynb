{
 "cells": [
  {
   "cell_type": "code",
   "execution_count": 1,
   "id": "f6cc4dbe-ea18-4d45-b5ed-f3eefda9835f",
   "metadata": {},
   "outputs": [],
   "source": [
    "import os \n",
    "import sys\n",
    "from dotenv import load_dotenv, find_dotenv\n",
    "\n",
    "from langchain.document_transformers import LongContextReorder\n",
    "\n",
    "# Instantiate the chain\n",
    "from langchain.chains import StuffDocumentsChain, LLMChain\n",
    "\n",
    "# Build prompt\n",
    "# Prompt template\n",
    "from langchain.prompts import PromptTemplate"
   ]
  },
  {
   "cell_type": "code",
   "execution_count": 2,
   "id": "e9e103bc-1f9b-4348-bf17-09d2d32fed07",
   "metadata": {},
   "outputs": [],
   "source": [
    "# Imports \n",
    "# Env var\n",
    "import os \n",
    "import sys\n",
    "from dotenv import load_dotenv, find_dotenv"
   ]
  },
  {
   "cell_type": "code",
   "execution_count": 3,
   "id": "53539806-a791-4264-8cab-b72883e29c64",
   "metadata": {},
   "outputs": [
    {
     "data": {
      "text/plain": [
       "True"
      ]
     },
     "execution_count": 3,
     "metadata": {},
     "output_type": "execute_result"
    }
   ],
   "source": [
    "# Env variable\n",
    "sys.path.append('../..')\n",
    "load_dotenv(find_dotenv())"
   ]
  },
  {
   "cell_type": "code",
   "execution_count": 4,
   "id": "ed22f7b3-5e5e-41fe-a583-e6393609e716",
   "metadata": {},
   "outputs": [],
   "source": [
    "DATA_PATH = './data/confluence/'\n",
    "CONFLUENCE_SPACE_NAME = 'https://florianbastin.atlassian.net/wiki'\n",
    "CONFLUENCE_API_KEY = os.environ['CONFLUENCE_PRIVATE_API_KEY'] # https://support.atlassian.com/atlassian-account/docs/manage-api-tokens-for-your-atlassian-account/\n",
    "CONFLUENCE_SPACE_KEY = os.environ['CONFLUENCE_SPACE_KEY']  # Hint: space_key and page_id can both be found in the URL of a page in Confluence - https://yoursite.atlassian.com/wiki/spaces/<space_key>/pages/<page_id>\n",
    "CONFLUENCE_USERNAME = 'bastinflorian1@gmail.com' "
   ]
  },
  {
   "cell_type": "code",
   "execution_count": 5,
   "id": "dc19ab73-5f9d-4f0d-a80d-c49d502d9fc2",
   "metadata": {},
   "outputs": [],
   "source": [
    "from langchain.document_loaders import ConfluenceLoader\n",
    "loader = ConfluenceLoader(\n",
    "    url=CONFLUENCE_SPACE_NAME,\n",
    "    username=CONFLUENCE_USERNAME,\n",
    "    api_key=CONFLUENCE_API_KEY\n",
    ")"
   ]
  },
  {
   "cell_type": "code",
   "execution_count": 6,
   "id": "103b9b37-255f-4b76-ad4e-8e8af459b027",
   "metadata": {},
   "outputs": [],
   "source": [
    "docs = loader.load(\n",
    "    space_key=CONFLUENCE_SPACE_KEY,\n",
    "    limit=10,\n",
    "    # include_attachments=True, # uncomment to include png, jpeg, ..\n",
    "    max_pages=50\n",
    ")"
   ]
  },
  {
   "cell_type": "code",
   "execution_count": 7,
   "id": "3b05a633-b710-4570-8e2c-3893c2b38d85",
   "metadata": {},
   "outputs": [],
   "source": [
    "from langchain.text_splitter import MarkdownHeaderTextSplitter\n",
    "\n",
    "\n",
    "# Markdown \n",
    "headers_to_split_on = [\n",
    "    (\"#\", \"Titre\"),\n",
    "    (\"##\", \"Header 2\"),\n",
    "    (\"###\", \"Header 3\"),\n",
    "]\n",
    "\n",
    "markdown_splitter = MarkdownHeaderTextSplitter(headers_to_split_on=headers_to_split_on)\n",
    "\n",
    "# Split based on markdown and add original metadata\n",
    "md_docs = []\n",
    "for doc in docs:\n",
    "    md_doc = markdown_splitter.split_text(doc.page_content)\n",
    "    for i in range(len(md_doc)):\n",
    "        md_doc[i].metadata = md_doc[i].metadata | doc.metadata \n",
    "    md_docs.extend(md_doc)\n",
    "\n",
    "# RecursiveTextSplitter\n",
    "from langchain.text_splitter import RecursiveCharacterTextSplitter\n",
    "# Chunk size big enough\n",
    "splitter = RecursiveCharacterTextSplitter(\n",
    "    chunk_size=500,\n",
    "    chunk_overlap=20,\n",
    "    separators=[\"\\n\\n\", \"\\n\", \"(?<=\\. )\", \" \", \"\"]\n",
    ")\n",
    "\n",
    "splitted_docs = splitter.split_documents(md_docs)"
   ]
  },
  {
   "cell_type": "code",
   "execution_count": 8,
   "id": "89d8c144-8cfe-4d15-a2da-12518c89dfde",
   "metadata": {},
   "outputs": [],
   "source": [
    "persist_directory = './db/chroma'"
   ]
  },
  {
   "cell_type": "code",
   "execution_count": 10,
   "id": "5f9d581f-308b-4998-abce-05ee7943df45",
   "metadata": {},
   "outputs": [],
   "source": [
    "# Embeddings\n",
    "from langchain.embeddings import OpenAIEmbeddings\n",
    "embeddings = OpenAIEmbeddings()"
   ]
  },
  {
   "cell_type": "code",
   "execution_count": 11,
   "id": "094d662a-736e-4a5b-bf52-0329d78b9a41",
   "metadata": {},
   "outputs": [],
   "source": [
    "# DB \n",
    "from langchain.vectorstores import Chroma\n",
    "db = Chroma(\n",
    "    persist_directory=persist_directory,\n",
    "    embedding_function=embeddings\n",
    ")"
   ]
  },
  {
   "cell_type": "code",
   "execution_count": 12,
   "id": "ee003705-82a0-4663-ad4f-68a0c27e0f41",
   "metadata": {},
   "outputs": [
    {
     "data": {
      "text/plain": [
       "108"
      ]
     },
     "execution_count": 12,
     "metadata": {},
     "output_type": "execute_result"
    }
   ],
   "source": [
    "db._collection.count()"
   ]
  },
  {
   "cell_type": "code",
   "execution_count": 13,
   "id": "a3c6ed5a-6564-43f9-8c43-df1c7587cdd4",
   "metadata": {},
   "outputs": [],
   "source": [
    "# db.get()\n",
    "retriever = db.as_retriever(search_type=\"similarity_score_threshold\", search_kwargs={\"k\": 5, \"score_threshold\": 0.3})"
   ]
  },
  {
   "cell_type": "code",
   "execution_count": 14,
   "id": "c87308ae-214d-4d74-acb8-c1d36078c9fe",
   "metadata": {},
   "outputs": [],
   "source": [
    "template = \"\"\"Given this text extracts:\n",
    "    -----\n",
    "    {context}\n",
    "    -----\n",
    "    Please answer with to the following question:\n",
    "    Question: {question}\n",
    "    Answer: \n",
    "    \"\"\"\n",
    "\n",
    "prompt = PromptTemplate(template=template, input_variables=[\"context\", \"question\"])"
   ]
  },
  {
   "cell_type": "code",
   "execution_count": 15,
   "id": "f4460250-19cd-4bbe-9c6a-12007f60273d",
   "metadata": {},
   "outputs": [],
   "source": [
    "# LLM\n",
    "from langchain.llms import OpenAI  \n",
    "llm = OpenAI()"
   ]
  },
  {
   "cell_type": "code",
   "execution_count": 22,
   "id": "729e0c47-4f3b-4312-900d-46ee492e856f",
   "metadata": {},
   "outputs": [
    {
     "name": "stdout",
     "output_type": "stream",
     "text": [
      "\n",
      "\n",
      "\u001b[1m> Entering new RetrievalQA chain...\u001b[0m\n",
      "\n",
      "\u001b[1m> Finished chain.\u001b[0m\n"
     ]
    }
   ],
   "source": [
    "question = \"Comment faire une photo de profil Octo ? \"\n",
    "from langchain.chains import RetrievalQA\n",
    "\n",
    "chain_type_kwargs = {\"prompt\": prompt}\n",
    "\n",
    "qa = RetrievalQA.from_chain_type(\n",
    "    llm=llm,\n",
    "    chain_type=\"refine\", # or \n",
    "    retriever=retriever,\n",
    "    return_source_documents=True,\n",
    "    #chain_type_kwargs=chain_type_kwargs,\n",
    "    verbose=True\n",
    ")\n",
    "query = {\"query\": question}\n",
    "answer = qa(query)"
   ]
  },
  {
   "cell_type": "code",
   "execution_count": 23,
   "id": "88046789-b882-4934-b5d1-fd1ae12979c6",
   "metadata": {},
   "outputs": [
    {
     "name": "stdout",
     "output_type": "stream",
     "text": [
      "\n",
      "\n",
      "Pour faire une photo de profil Octo, vous pouvez demander à un photographe professionnel de vous prendre en photo avec votre meilleur profil “I am a STAR”, ou utiliser un trépied ou une surface plate pour prendre une photo de vous-même. Ensuite, cadrez le buste entier et enregistrez la photo au format poly.png. Vous pouvez ensuite télécharger la photo sur le dossier de partage « OCTO'S PICS » sur la page Facebook [OctoTechnology](http://www.facebook.com/OctoTechnology). N'oubliez pas de retoucher la photo avant de la télécharger et de vous assurer que votre photo est liée à votre profil d'utilisateur sur tous les outils et services OCTO, tels que Confluence, Octopod, PeopleDoc, AskBob, Gmail + Google Agenda + Mailing list, et au catalogue de formation sur le site web LevelUp, afin de faciliter vot\n"
     ]
    }
   ],
   "source": [
    "print(answer[\"result\"])"
   ]
  }
 ],
 "metadata": {
  "kernelspec": {
   "display_name": "Python 3 (ipykernel)",
   "language": "python",
   "name": "python3"
  },
  "language_info": {
   "codemirror_mode": {
    "name": "ipython",
    "version": 3
   },
   "file_extension": ".py",
   "mimetype": "text/x-python",
   "name": "python",
   "nbconvert_exporter": "python",
   "pygments_lexer": "ipython3",
   "version": "3.10.12"
  }
 },
 "nbformat": 4,
 "nbformat_minor": 5
}
